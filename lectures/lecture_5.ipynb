{
 "cells": [
  {
   "cell_type": "markdown",
   "metadata": {
    "slideshow": {
     "slide_type": "slide"
    }
   },
   "source": [
    "# Machine Learning\n",
    "---\n",
    "### Lecture 5: Linear Classification: SVM"
   ]
  },
  {
   "cell_type": "code",
   "execution_count": 60,
   "metadata": {
    "slideshow": {
     "slide_type": "skip"
    }
   },
   "outputs": [],
   "source": [
    "import warnings\n",
    "warnings.filterwarnings(\"ignore\")\n",
    "\n",
    "import numpy as np\n",
    "import matplotlib.pylab as plt\n",
    "\n",
    "import matplotlib\n",
    "nice_fonts = {\n",
    "    \"text.usetex\": True,\n",
    "    \"font.family\": \"serif\",\n",
    "    \"font.serif\" : \"Times New Roman\",\n",
    "#     \"font.size\": 30,\n",
    "    \"lines.linewidth\":3,\n",
    "    \"axes.titlesize\":30,\n",
    "    \"axes.labelsize\":24,\n",
    "    \"xtick.labelsize\":14,\n",
    "    \"ytick.labelsize\":14,\n",
    "}\n",
    "plt.style.use('seaborn-whitegrid')\n",
    "matplotlib.rcParams.update(nice_fonts)\n",
    "%matplotlib inline\n",
    "plt.rcParams['figure.figsize'] = (8, 5)"
   ]
  },
  {
   "cell_type": "markdown",
   "metadata": {
    "slideshow": {
     "slide_type": "slide"
    }
   },
   "source": [
    "## Learning Outcomes\n",
    "\n",
    "* Recall Linear Regression\n",
    "* Derive optimization problem for SVM\n",
    "* Understand what is a support vector\n",
    "* Understand what is a kernel and a kernel trick"
   ]
  },
  {
   "cell_type": "markdown",
   "metadata": {
    "slideshow": {
     "slide_type": "slide"
    }
   },
   "source": [
    "# Binary Linear Classification\n",
    "--- \n"
   ]
  },
  {
   "cell_type": "markdown",
   "metadata": {
    "slideshow": {
     "slide_type": "-"
    }
   },
   "source": [
    "<table><tr>\n",
    "<td> <img src=\"img/3_1.png\" alt=\"Drawing\" style=\"width: 1000px;\"/> </td>\n",
    "</tr></table>"
   ]
  },
  {
   "cell_type": "markdown",
   "metadata": {
    "slideshow": {
     "slide_type": "subslide"
    }
   },
   "source": [
    "#### Training Dataset:\n",
    "\n",
    "$$\n",
    "\\mathcal{D} = \\{x_n, y_n\\}_{n=1}^N, y_n \\in \\{-1, 1\\}\n",
    "$$\n",
    "#### Model:\n",
    "\n",
    "$$\n",
    "a(x_n) = sign(\\langle w, x_n\\rangle)\n",
    "$$\n",
    "#### Cost function:\n",
    "\n",
    "$$\n",
    "\\mathcal{L}(a, X) = \\frac{1}{N}\\sum_{n=1}^N \\left[a(x_n) \\neq y_n \\right] = \\frac{1}{N}\\sum_{n=1}^N \\left[M_n < 0 \\right] ,\\\\\n",
    "M_n = y_n \\langle w, x_n\\rangle\n",
    "$$\n"
   ]
  },
  {
   "cell_type": "markdown",
   "metadata": {
    "slideshow": {
     "slide_type": "notes"
    }
   },
   "source": [
    "\n",
    "\n",
    "M - Margin shows for each object how far it is from a separating hyperplane. If it is positive - correct class. If it is negative - wrong class. "
   ]
  },
  {
   "cell_type": "code",
   "execution_count": 30,
   "metadata": {
    "slideshow": {
     "slide_type": "skip"
    }
   },
   "outputs": [],
   "source": [
    "x_grid = np.linspace(-2, 2, 100)\n",
    "def step(M):\n",
    "    res = np.ones_like(M)\n",
    "    res[M > 0] = 0\n",
    "    return res\n",
    "\n",
    "def hinge(M):\n",
    "    return np.maximum(np.zeros_like(M), 1 - M)\n",
    "    \n",
    "def logistic(M):\n",
    "    return np.log(1 + np.exp(-M))/np.log(2)"
   ]
  },
  {
   "cell_type": "code",
   "execution_count": 61,
   "metadata": {
    "slideshow": {
     "slide_type": "subslide"
    }
   },
   "outputs": [
    {
     "data": {
      "image/png": "[encoded data removed]",
      "text/plain": [
       "<Figure size 576x360 with 1 Axes>"
      ]
     },
     "metadata": {
      "needs_background": "light"
     },
     "output_type": "display_data"
    }
   ],
   "source": [
    "plt.title('Loss function (error rate)')\n",
    "plt.xlabel('Margin')\n",
    "plt.ylabel('Loss')\n",
    "\n",
    "plt.plot(x_grid, step(x_grid));"
   ]
  },
  {
   "cell_type": "markdown",
   "metadata": {
    "slideshow": {
     "slide_type": "notes"
    }
   },
   "source": [
    "How to optimize such loss?\n",
    "\n",
    "Gradeint is 0 almost everywhere. "
   ]
  },
  {
   "cell_type": "markdown",
   "metadata": {
    "slideshow": {
     "slide_type": "subslide"
    }
   },
   "source": [
    "$$\n",
    "0 \\leq  \\frac{1}{N}\\sum_{n=1}^N \\left[M_n < 0 \\right] \\leq \\frac{1}{N}\\sum_{n=1}^N \\widetilde{L}(a, x_n) \\rightarrow \\min\n",
    "$$"
   ]
  },
  {
   "cell_type": "code",
   "execution_count": 64,
   "metadata": {
    "slideshow": {
     "slide_type": "-"
    }
   },
   "outputs": [
    {
     "data": {
      "image/png": "[encoded data removed]",
      "text/plain": [
       "<Figure size 576x360 with 1 Axes>"
      ]
     },
     "metadata": {
      "needs_background": "light"
     },
     "output_type": "display_data"
    }
   ],
   "source": [
    "plt.xlabel('Margin')\n",
    "plt.ylabel('Loss')\n",
    "\n",
    "plt.plot(x_grid, step(x_grid));\n",
    "plt.plot(x_grid, logistic(x_grid), label=r'Upper bound $\\widetilde{L}$');\n",
    "\n",
    "plt.legend(fontsize=16);"
   ]
  },
  {
   "cell_type": "markdown",
   "metadata": {
    "slideshow": {
     "slide_type": "notes"
    }
   },
   "source": [
    "Sometimes we can replace the loss function we care about with one\n",
    "which is easier to optimize. This is known as a surrogate loss function."
   ]
  },
  {
   "cell_type": "markdown",
   "metadata": {
    "slideshow": {
     "slide_type": "subslide"
    }
   },
   "source": [
    "Different upper bounds lead to models with different properties\n",
    "* Logistic loss   $\\quad \\Rightarrow \\quad$ Logistic Regression\n",
    "* Hinge Loss + $L_2$ regularization $\\quad \\Rightarrow\\quad$ Linear SVM\n",
    "\n",
    "Can we go other way around? From properties to upper bound."
   ]
  },
  {
   "cell_type": "code",
   "execution_count": 66,
   "metadata": {
    "slideshow": {
     "slide_type": "-"
    }
   },
   "outputs": [
    {
     "data": {
      "image/png": "[encoded data removed]",
      "text/plain": [
       "<Figure size 576x360 with 1 Axes>"
      ]
     },
     "metadata": {
      "needs_background": "light"
     },
     "output_type": "display_data"
    }
   ],
   "source": [
    "plt.xlabel('Margin')\n",
    "plt.ylabel('Loss')\n",
    "plt.plot(x_grid, step(x_grid), label='Threshold');\n",
    "plt.plot(x_grid, hinge(x_grid), label='Hinge loss');\n",
    "plt.plot(x_grid, logistic(x_grid), label='Logistic loss');\n",
    "plt.legend(fontsize=16);"
   ]
  },
  {
   "cell_type": "markdown",
   "metadata": {
    "slideshow": {
     "slide_type": "slide"
    }
   },
   "source": [
    "## Logistic Regression\n",
    "#### Training Dataset:  $\\quad \\mathbb{Y} = \\{-1, 1\\}$\n",
    "\n",
    "#### Model: $\\quad \\quad  \\quad \\quad  a(X) = \\text{sign}(\\langle w, x \\rangle)$\n",
    "\n",
    "How to change the model, so that we have **probabilities** as an output?"
   ]
  },
  {
   "cell_type": "code",
   "execution_count": 86,
   "metadata": {
    "slideshow": {
     "slide_type": "skip"
    }
   },
   "outputs": [],
   "source": [
    "def sigmoid(x):\n",
    "    return 1/(1 + np.exp(-x))\n",
    "\n",
    "x_1 = 4 + np.random.random(20)*5\n",
    "x_0 = np.random.random(20)*5\n",
    "x = np.concatenate([x_0, x_1])\n",
    "x_grid = np.linspace(0, 10, 20)\n",
    "y = np.concatenate([np.zeros_like(x_0), np.ones_like(x_0)])"
   ]
  },
  {
   "cell_type": "code",
   "execution_count": 100,
   "metadata": {},
   "outputs": [
    {
     "data": {
      "image/png": "[encoded data removed]",
      "text/plain": [
       "<Figure size 576x360 with 1 Axes>"
      ]
     },
     "metadata": {
      "needs_background": "light"
     },
     "output_type": "display_data"
    }
   ],
   "source": [
    "plt.xlabel('HW Grade')\n",
    "plt.ylabel('Course Graduation')\n",
    "plt.scatter(x, y);\n",
    "plt.plot(x_grid, -.15 + 0.15*x_grid, label=r'$\\langle w, x \\rangle$');\n",
    "plt.legend(fontsize=18);"
   ]
  },
  {
   "cell_type": "markdown",
   "metadata": {
    "slideshow": {
     "slide_type": "subslide"
    }
   },
   "source": [
    "Let's convert outputs $\\langle w, x \\rangle$ to [0, 1] with sigmoid:\n",
    "\n",
    "$$\n",
    "\\sigma(x) = \\frac{1}{1 + \\exp(-x)}\n",
    "$$"
   ]
  },
  {
   "cell_type": "code",
   "execution_count": 104,
   "metadata": {
    "slideshow": {
     "slide_type": "fragment"
    }
   },
   "outputs": [
    {
     "data": {
      "image/png": "[encoded data removed]",
      "text/plain": [
       "<Figure size 576x360 with 1 Axes>"
      ]
     },
     "metadata": {
      "needs_background": "light"
     },
     "output_type": "display_data"
    }
   ],
   "source": [
    "plt.xlabel('HW Grade')\n",
    "plt.ylabel('Course Graduation')\n",
    "plt.scatter(x, y);\n",
    "plt.plot(x_grid, sigmoid(-5 + 1*x_grid), label=r'$\\sigma(\\langle w, x \\rangle)$');\n",
    "plt.legend(fontsize=18);"
   ]
  },
  {
   "cell_type": "markdown",
   "metadata": {
    "slideshow": {
     "slide_type": "subslide"
    }
   },
   "source": [
    "## Traning Logisitc Regression\n",
    "\n",
    "* We define probability of a positive class as\n",
    "\n",
    "$$\n",
    "\\mathbb{P}(y_n = 1) = \\sigma(\\langle w, x_n\\rangle )\n",
    "$$\n",
    "\n",
    "* Maximum likelihood\n",
    "\n",
    "$$\n",
    " \\log \\prod_n p(y_n) \\rightarrow \\max_{w}\n",
    "$$\n",
    "\n",
    "* Final objective\n",
    "\n",
    "$$\n",
    "\\mathcal{L} = \\sum_{n} \\log (1 + \\exp( - y_n \\langle w, x_n \\rangle )) \\rightarrow \\min_w\n",
    "$$"
   ]
  },
  {
   "cell_type": "markdown",
   "metadata": {
    "slideshow": {
     "slide_type": "slide"
    }
   },
   "source": [
    "# Supprot Vector Machine\n",
    "--- \n"
   ]
  },
  {
   "cell_type": "markdown",
   "metadata": {
    "slideshow": {
     "slide_type": "subslide"
    }
   },
   "source": [
    "### Upper bound approach\n",
    "\n",
    "* Hinge loss \n",
    "\n",
    "$$\n",
    " \\left[M_n(w) < 0 \\right] \\leq \\max \\left(0,  1 - M_n(w)\\right)\n",
    "$$\n",
    "\n",
    "* and  $L_2$ regularization\n",
    "\n",
    "$$\n",
    "\\mathcal{L} =  \\max \\left(0,  1 - M_n(w)\\right) + \\frac{1}{2C}\\|w\\|^2 \\rightarrow \\min_w\n",
    "$$"
   ]
  },
  {
   "cell_type": "markdown",
   "metadata": {
    "slideshow": {
     "slide_type": "subslide"
    }
   },
   "source": [
    "### How to choose the best classifier\n",
    "\n",
    "<table><tr>\n",
    "<td> <img src=\"https://quantdare.com/wp-content/uploads/2016/09/SVM1.png\" alt=\"Drawing\" style=\"width: 1000px;\"/> </td>\n",
    "</tr></table>\n",
    "\n"
   ]
  },
  {
   "cell_type": "markdown",
   "metadata": {
    "slideshow": {
     "slide_type": "subslide"
    }
   },
   "source": [
    "### Definitions\n",
    "\n",
    "* Linear Classifier defines a hyperplane: \n",
    "\n",
    "$$\\langle w, x \\rangle = 0$$\n",
    "\n",
    "* Distance from $x^*$ to this hyperplane:\n",
    "\n",
    "$$\\frac{|\\langle w, x^* \\rangle|}{\\|w\\|} $$\n"
   ]
  },
  {
   "cell_type": "markdown",
   "metadata": {
    "slideshow": {
     "slide_type": "subslide"
    }
   },
   "source": [
    "### Step 1. Linearly Separable Case (Hard Margin)\n",
    "\n",
    "We can perfectly classify all the points:\n",
    "$$\n",
    "M_n(w) > 0 \\, \\forall n\n",
    "$$"
   ]
  },
  {
   "cell_type": "markdown",
   "metadata": {
    "slideshow": {
     "slide_type": "notes"
    }
   },
   "source": [
    "\n",
    "\n",
    "We say that the best classifier would have the largest margin.\n",
    "\n",
    "How many points will be on the border? (minimum)"
   ]
  },
  {
   "cell_type": "markdown",
   "metadata": {
    "slideshow": {
     "slide_type": "fragment"
    }
   },
   "source": [
    "#### Margin of a classifier - the wider the better\n",
    "\n",
    "<table><tr>\n",
    "<td> <img src=\"https://upload.wikimedia.org/wikipedia/commons/7/72/SVM_margin.png\" alt=\"Drawing\" style=\"width: 500px;\"/> </td>\n",
    "</tr></table>\n",
    "\n"
   ]
  },
  {
   "cell_type": "markdown",
   "metadata": {
    "slideshow": {
     "slide_type": "subslide"
    }
   },
   "source": [
    "## Goal\n",
    "\n",
    "* Maximal Margin\n",
    "\n",
    "* No erros"
   ]
  },
  {
   "cell_type": "markdown",
   "metadata": {
    "slideshow": {
     "slide_type": "subslide"
    }
   },
   "source": [
    "## Goal\n",
    "\n",
    "* Maximal Margin\n",
    "\n",
    "$$\n",
    "\\max_w \\left( 2 \\min_n \\frac{|\\langle x_n, w \\rangle|}{\\|w\\|} \\right)\n",
    "$$\n",
    "\n",
    "* No erros\n",
    "\n",
    "$$\n",
    "M_n(w) > 0\\, \\forall n\n",
    "$$"
   ]
  },
  {
   "cell_type": "markdown",
   "metadata": {
    "slideshow": {
     "slide_type": "fragment"
    }
   },
   "source": [
    "Let's normalize the weights by $\\min_n |\\langle x_n, w \\rangle|$. \n",
    "\n",
    "Namely, $w^{new} = \\frac{w}{\\min_n |\\langle x_n, w \\rangle|}\\,\\, \\Rightarrow \\,\\,  \\min_n |\\langle w^{new}, x_n \\rangle| = 1$\n",
    "\n",
    "Why can we do that?"
   ]
  },
  {
   "cell_type": "markdown",
   "metadata": {
    "slideshow": {
     "slide_type": "subslide"
    }
   },
   "source": [
    "## Goal\n",
    "\n",
    "* Maximal Margin\n",
    "\n",
    "$$\n",
    "\\frac{2}{\\|w\\|} \\rightarrow \\max_w\n",
    "$$\n",
    "\n",
    "* No erros\n",
    "\n",
    "$$\n",
    "M_n(w) > 0\\, \\forall n\n",
    "$$\n",
    "\n",
    "* Normalization\n",
    "\n",
    "$$\n",
    "\\min_n |\\langle w, x_n \\rangle| = 1\n",
    "$$"
   ]
  },
  {
   "cell_type": "markdown",
   "metadata": {
    "slideshow": {
     "slide_type": "subslide"
    }
   },
   "source": [
    "## Goal\n",
    "\n",
    "* Maximal Margin\n",
    "\n",
    "$$\n",
    "\\max_w \\frac{2}{\\|w\\|}\n",
    "$$\n",
    "\n",
    "* No erros + Normalization\n",
    "\n",
    "$$\n",
    "y_n \\langle w, x_n \\rangle \\geq 1 \\, \\forall n\n",
    "$$"
   ]
  },
  {
   "cell_type": "markdown",
   "metadata": {
    "slideshow": {
     "slide_type": "subslide"
    }
   },
   "source": [
    "## Hard Margin SVM\n",
    "\n",
    "\\begin{equation}\n",
    "\\begin{cases}\n",
    "\\min_w \\frac{1}{2}\\|w\\| \\\\\n",
    "M_n(w) \\geq 1\n",
    "\\end{cases}\n",
    "\\end{equation}"
   ]
  },
  {
   "cell_type": "markdown",
   "metadata": {
    "slideshow": {
     "slide_type": "subslide"
    }
   },
   "source": [
    "###  Step 2. Soft Margin\n",
    "<table><tr>\n",
    "<td> <img src=\"https://miro.medium.com/max/1104/1*CD08yESKvYgyM7pJhCnQeQ.png\" alt=\"Drawing\" style=\"width: 500px;\"/> </td>\n",
    "</tr></table>\n",
    "\n"
   ]
  },
  {
   "cell_type": "markdown",
   "metadata": {
    "slideshow": {
     "slide_type": "notes"
    }
   },
   "source": [
    "If sample is not linearly separable, the system of inequalities will have emlty solution."
   ]
  },
  {
   "cell_type": "markdown",
   "metadata": {
    "slideshow": {
     "slide_type": "subslide"
    }
   },
   "source": [
    "Let's soften the restrictions. We introduce auxilary **slack** variables $\\xi_n$:\n",
    "\n",
    "\\begin{equation}\n",
    "\\begin{cases}\n",
    "\\min_{x, \\xi_n} \\frac{1}{2}\\|w\\| + C \\sum_n \\color{red}{\\xi_n}\\\\\n",
    "M_n(w) \\geq 1 - \\color{red}{\\xi_n}\\\\\n",
    "\\color{red}{\\xi_n} \\geq 0\n",
    "\\end{cases}\n",
    "\\end{equation}\n",
    "\n",
    "* $\\xi$ controls how \"hard\" we violate the constraint\n",
    "* We need to penalize for these violations"
   ]
  },
  {
   "cell_type": "markdown",
   "metadata": {
    "slideshow": {
     "slide_type": "fragment"
    }
   },
   "source": [
    "<table><tr>\n",
    "<td> <img src=\"https://www.researchgate.net/profile/Lang-Tran/publication/327015448/figure/fig2/AS:659696117633025@1534295219130/SVM-with-soft-margin-kernel-with-different-cases-of-slack-variables.png\" alt=\"Drawing\" style=\"width: 500px;\"/> </td>\n",
    "</tr></table>\n"
   ]
  },
  {
   "cell_type": "markdown",
   "metadata": {
    "slideshow": {
     "slide_type": "notes"
    }
   },
   "source": [
    "C is a hyperparameter. On practicals you will see, how that influences the solution\n",
    "\n",
    "We have a quadratic optimization with linear constraints\n",
    "\n",
    "--\n",
    "Write a single restriction here"
   ]
  },
  {
   "cell_type": "markdown",
   "metadata": {
    "slideshow": {
     "slide_type": "subslide"
    }
   },
   "source": [
    "\\begin{cases}\n",
    "\\min_{x, \\xi_n} \\frac{1}{2}\\|w\\| + C \\sum_n \\xi_n\\\\\n",
    "\\xi_n \\geq \\max(0, 1 - M_n(w)) \\\\\n",
    "\\end{cases}\n",
    "\n",
    "\n",
    "\n",
    "Equivalent unconditional optimization task\n",
    "\n",
    "$$\n",
    "\\min_w  \\left( \\frac{1}{2}\\|w\\| + C \\sum_n \\max(0, 1 - M_n(w))\\right)\n",
    "$$"
   ]
  },
  {
   "cell_type": "markdown",
   "metadata": {
    "slideshow": {
     "slide_type": "notes"
    }
   },
   "source": [
    "When we substitute inequlity by equality, we are minimizing w.r.t. $\\xi$. So we can substitute it\n",
    "\n",
    "We see exactly L2 reg (first term) and hinge loss (second term). Recall that we had this obj. in the very begining when we were using hinge loss as an upper bound on the error rate. \n",
    "\n",
    "Here we obtain the same results from geometrical point view\n",
    "\n",
    "It is still not clear, what is the support vector."
   ]
  },
  {
   "cell_type": "markdown",
   "metadata": {
    "slideshow": {
     "slide_type": "subslide"
    }
   },
   "source": [
    "\\begin{equation}\n",
    "\\begin{cases}\n",
    "\\min_{x, \\xi_n} \\frac{1}{2}\\|w\\| + C \\sum_n \\xi_n\\\\\n",
    "M_n(w) \\geq 1 - \\xi_n\\\\\n",
    "\\xi_n \\geq 0\n",
    "\\end{cases}\n",
    "\\end{equation}"
   ]
  },
  {
   "cell_type": "markdown",
   "metadata": {
    "slideshow": {
     "slide_type": "subslide"
    }
   },
   "source": [
    "### Karush-Kunh-Tucker condition\n",
    "\n",
    "\\begin{equation}\n",
    "\\begin{cases}\n",
    "\\min f(x) \\\\\n",
    "g_i (x) \\leq 0\n",
    "\\end{cases}\n",
    "\\end{equation}"
   ]
  },
  {
   "cell_type": "markdown",
   "metadata": {
    "slideshow": {
     "slide_type": "-"
    }
   },
   "source": [
    "If $x$ is a local minimum, $\\exists \\, \\mu_i$:\n",
    "\n",
    "\\begin{equation}\n",
    "\\begin{cases}\n",
    " \\frac{\\partial \\mathcal{L}}{\\partial x} = 0\\\\\n",
    "g_i (x) \\leq 0 \\\\\n",
    "\\mu_i \\geq 0 \\\\\n",
    "\\mu_i g_i(x) = 0\n",
    "\\end{cases} , \\,\\text{where} \\quad  \n",
    "\\mathcal{L} = f(x) + \\sum_i \\mu_i g_i(x)\n",
    "\\end{equation}"
   ]
  },
  {
   "cell_type": "markdown",
   "metadata": {
    "slideshow": {
     "slide_type": "subslide"
    }
   },
   "source": [
    "### KKT for SVM\n",
    "\n",
    "\n",
    "\\begin{equation}\n",
    "\\begin{cases}\n",
    "w = \\sum_n \\lambda_n y_n x_n, \\quad \\nu_n + \\lambda_n = C \\\\ \n",
    "M_n(w)  \\geq 1 - \\xi_n \\\\\n",
    "\\lambda_n \\geq 0, \\nu_n \\geq 0, \\xi_n \\geq 0 \\\\\n",
    "\\lambda_n (1 - \\xi_n - M_n(w)) = 0 \\\\\n",
    "\\nu_n \\xi_n  = 0  \\\\\n",
    "\\end{cases} \n",
    "\\end{equation}"
   ]
  },
  {
   "cell_type": "markdown",
   "metadata": {
    "slideshow": {
     "slide_type": "notes"
    }
   },
   "source": [
    "* $w$ is a weighted sum of features. "
   ]
  },
  {
   "cell_type": "markdown",
   "metadata": {},
   "source": [
    "Types of objects depending on $\\lambda_n$\n",
    "* If $\\lambda_n = 0$. This object does not \"participate\" in the solution:\n",
    "    - $\\nu_n = C$\n",
    "    - $\\xi = 0$\n",
    "    - $M_n(w) \\geq 1$"
   ]
  },
  {
   "cell_type": "markdown",
   "metadata": {
    "slideshow": {
     "slide_type": "subslide"
    }
   },
   "source": [
    "### KKT for SVM\n",
    "\\begin{equation}\n",
    "\\begin{cases}\n",
    "w = \\sum_n \\lambda_n y_n x_n, \\quad \\nu_n + \\lambda_n = C \\\\ \n",
    "M_n(w)  \\geq 1 - \\xi_n \\\\\n",
    "\\lambda_n \\geq 0, \\nu_n \\geq 0, \\xi_n \\geq 0 \\\\\n",
    "\\lambda_n (1 - \\xi_n - M_n(w)) = 0 \\\\\n",
    "\\nu_n \\xi_n  = 0  \\\\\n",
    "\\end{cases} \n",
    "\\end{equation}\n",
    "\n",
    "Types of objects depending on $\\lambda_n$\n",
    "* If $\\lambda_n = 0$. This object does not \"participate\" in the solution:\n",
    "    \n",
    "* If $\\lambda_n \\in (0, C)$. This is a **support vector**, which lies on the border:\n",
    "    - $\\nu_n \\in (0, C)$ and $1 - \\xi_n - M_n(w) = 0$\n",
    "    - $\\xi_n = 0$\n",
    "    - $M_n(w) = 1$"
   ]
  },
  {
   "cell_type": "markdown",
   "metadata": {
    "slideshow": {
     "slide_type": "subslide"
    }
   },
   "source": [
    "### KKT for SVM\n",
    "\\begin{equation}\n",
    "\\begin{cases}\n",
    "w = \\sum_n \\lambda_n y_n x_n, \\quad \\nu_n + \\lambda_n = C \\\\ \n",
    "M_n(w)  \\geq 1 - \\xi_n \\\\\n",
    "\\lambda_n \\geq 0, \\nu_n \\geq 0, \\xi_n \\geq 0 \\\\\n",
    "\\lambda_n (1 - \\xi_n - M_n(w)) = 0 \\\\\n",
    "\\nu_n \\xi_n  = 0  \\\\\n",
    "\\end{cases} \n",
    "\\end{equation}\n",
    "\n",
    "Types of objects depending on $\\lambda_n$\n",
    "* If $\\lambda_n = 0$. This object does not \"participate\" in the solution\n",
    "* If $\\lambda_n \\in (0, C)$. This is a **support vector**, which lies on the border\n",
    "* If $\\lambda_n = C$. This is a **support vetor**, which lies inside the border (or on the wrong side):\n",
    "    - $\\nu_n  = 0$  and $1 - \\xi_n - M_n(w) = 0$\n",
    "    - $\\xi_n > 0$\n",
    "    - $M_n(w) < 1$"
   ]
  },
  {
   "cell_type": "markdown",
   "metadata": {
    "slideshow": {
     "slide_type": "subslide"
    }
   },
   "source": [
    "\n",
    "<table><tr>\n",
    "<td> <img src=\"https://i.stack.imgur.com/npEOk.png\" alt=\"Drawing\" style=\"width: 500px;\"/> </td>\n",
    "</tr></table>\n"
   ]
  },
  {
   "cell_type": "markdown",
   "metadata": {
    "slideshow": {
     "slide_type": "subslide"
    }
   },
   "source": [
    "### Dual Problem\n",
    "\n",
    "$$\n",
    "\\begin{cases}\n",
    "- \\mathcal{L} = - \\sum_n \\lambda_n  + \\frac12 \\sum_n \\sum_m \\lambda_n \\lambda_m y_m y_n\\langle x_n, x_m \\rangle \\rightarrow \\min_{\\lambda}\\\\\n",
    "0 \\leq \\lambda_n \\leq C\n",
    "\\end{cases} \n",
    "$$\n",
    "\n",
    "where\n",
    "$$\n",
    "w = \\sum_n \\lambda_n y_n x_n\n",
    "$$\n",
    "\n",
    "Therefore, the resulting classifier is:\n",
    "\n",
    "$$\n",
    "a(x)  = \\text{sign} \\left(\\sum_n \\lambda_n y_n \\langle x, x_n\\rangle \\right)\n",
    "$$"
   ]
  },
  {
   "cell_type": "markdown",
   "metadata": {
    "slideshow": {
     "slide_type": "notes"
    }
   },
   "source": [
    "This is called the dual problem. \n",
    "\n",
    "the dual maximization problem is a quadratic function with linear constrains. \n",
    "\n",
    "What is important?\n",
    "\n",
    "Note that now we have **everywhere** only scalar products of different objects. (not of the features itself)"
   ]
  },
  {
   "cell_type": "markdown",
   "metadata": {
    "slideshow": {
     "slide_type": "subslide"
    }
   },
   "source": [
    "### Dual Problem\n",
    "\n",
    "$$\n",
    "\\begin{cases}\n",
    "- \\mathcal{L} = - \\sum_n \\lambda_n  + \\frac12 \\sum_n \\sum_m \\lambda_n \\lambda_m y_m y_n \\color{red}{\\langle x_n, x_m \\rangle} \\rightarrow \\min_{\\lambda}\\\\\n",
    "0 \\leq \\lambda_n \\leq C\n",
    "\\end{cases} \n",
    "$$\n",
    "\n",
    "where\n",
    "$$\n",
    "w = \\sum_n \\lambda_n y_n x_n\n",
    "$$\n",
    "\n",
    "Therefore, the resulting classifier is:\n",
    "\n",
    "$$\n",
    "a(x)  = \\text{sign} \\left(\\sum_n \\lambda_n y_n \\color{red}{\\langle x, x_n\\rangle} \\right)\n",
    "$$"
   ]
  },
  {
   "cell_type": "markdown",
   "metadata": {
    "slideshow": {
     "slide_type": "notes"
    }
   },
   "source": [
    "What is we subsitute the scala product by an arbitrary function, which takes as input 2 objects and return a number\n",
    "\n",
    "This is cool, cause we may get a super non-linear function"
   ]
  },
  {
   "cell_type": "markdown",
   "metadata": {
    "slideshow": {
     "slide_type": "subslide"
    }
   },
   "source": [
    "### Kernel Trick \n",
    "\n",
    "* Can we take an arbitrary function $K(x, x^{'})$ and use it instead of $\\langle x, x^{'}\\rangle$ in SVM formulation?\n",
    "\n",
    "* Yes! But..."
   ]
  },
  {
   "cell_type": "markdown",
   "metadata": {
    "slideshow": {
     "slide_type": "fragment"
    }
   },
   "source": [
    "* But $K(x, x^{'})$ should be a kernel\n",
    "\n",
    "aka there should be some space, in which $K(x, x^{'})$ is a scalar product. Namely,\n",
    "\n",
    "$$\\exists \\psi, s.t. K(x, x^{'}) = \\langle \\psi(x), \\psi(x^{'})\\rangle$$\n",
    "\n",
    "* Good news: we do not have to know much about this space\n",
    "* Bad news: we need to ensure that $K$ is indeed a kernel"
   ]
  },
  {
   "cell_type": "markdown",
   "metadata": {
    "slideshow": {
     "slide_type": "subslide"
    }
   },
   "source": [
    "### Constructing a kernel\n",
    "\n",
    "What **is** a kernel:\n",
    "* $K(x, x^{'}) = \\langle x, x^{'}\\rangle$\n",
    "\n",
    "* Constant: $K(x, x^{'}) = 1$\n",
    "\n",
    "* Product of 2 kernels: $K(x, x^{'}) = K_1(x, x^{'})K_2(x, x^{'})$\n",
    "\n",
    "* Weighted sum: $K(x, x^{'}) = \\alpha_1 K_1(x, x^{'}) + \\alpha_2 K_2(x, x^{'}), \\alpha_1, \\alpha_2 > 0$"
   ]
  },
  {
   "cell_type": "markdown",
   "metadata": {
    "slideshow": {
     "slide_type": "notes"
    }
   },
   "source": [
    "Definition of a kernel is a pretty comlicated thing, which is hard to validate on practice. Instead, we can use these properties"
   ]
  },
  {
   "cell_type": "markdown",
   "metadata": {
    "slideshow": {
     "slide_type": "subslide"
    }
   },
   "source": [
    "### Kernel example\n",
    "\n",
    "Consider the following kernel:\n",
    "\n",
    "$$\n",
    "K(a, b) = \\langle a, b\\rangle ^2, a, b \\in \\mathbb{R}^2\n",
    "$$\n",
    "\n",
    "Let's open the brackes\n",
    "$$\n",
    "K(a, b) = \\langle (a_1^2, a_2^2, \\sqrt{2} a_1 a_2), (b_1^2, b_2^2, \\sqrt{2} b_1 b_2)\\rangle ^2\n",
    "$$\n",
    "\n",
    "That is \n",
    "\n",
    "$$\\psi(a) = (a_1^2, a_2^2, \\sqrt{2} a_1 a_2)$$"
   ]
  },
  {
   "cell_type": "markdown",
   "metadata": {
    "slideshow": {
     "slide_type": "notes"
    }
   },
   "source": [
    "That is, we have constructed a kernel, which map 2d space into 3d space. \n",
    "\n",
    "**important** we do not have to perform this mappint explicitly. we only need to evaluate the value of $K$"
   ]
  },
  {
   "cell_type": "markdown",
   "metadata": {
    "slideshow": {
     "slide_type": "subslide"
    }
   },
   "source": [
    "### Examples of kernels\n",
    "\n",
    "* Polynomial kernel\n",
    "\n",
    "$$K(x, x^{'}) = \\langle x, x^{'}\\rangle^d $$\n",
    "\n",
    "or\n",
    "\n",
    "$$K(x, x^{'}) = \\langle x, x^{'} + 1\\rangle^d $$\n",
    "\n",
    "* Radial basis functions\n",
    "\n",
    "$$K(x, x^{'}) = \\exp(-\\gamma \\|x - x^{'}\\|) $$"
   ]
  },
  {
   "cell_type": "markdown",
   "metadata": {
    "slideshow": {
     "slide_type": "notes"
    }
   },
   "source": [
    "What's the difference betwenn 1 and second?\n",
    "\n",
    "First contains only monomials of order d, whle second - of order <= d\n",
    "\n",
    "RBF has an extra parameter - $\\gamma$. You will play with it during tutorial"
   ]
  },
  {
   "cell_type": "markdown",
   "metadata": {
    "slideshow": {
     "slide_type": "subslide"
    }
   },
   "source": [
    "### Kernel SVM\n",
    "\n",
    "* Objective\n",
    "$$\n",
    "\\begin{cases}\n",
    "- \\mathcal{L} = - \\sum_n \\lambda_n  + \\frac12 \\sum_n \\sum_m \\lambda_n \\lambda_m y_m y_n \\color{red}{K(x_n, x_m)} \\rightarrow \\min_{\\lambda}\\\\\n",
    "0 \\leq \\lambda_n \\leq C\n",
    "\\end{cases} \n",
    "$$\n",
    "\n",
    "\n",
    "* Resulting classifier is:\n",
    "\n",
    "$$\n",
    "a(x)  = \\text{sign} \\left(\\sum_n \\lambda_n y_n \\color{red}{K(x, x_n)} \\right)\n",
    "$$"
   ]
  },
  {
   "cell_type": "markdown",
   "metadata": {
    "slideshow": {
     "slide_type": "notes"
    }
   },
   "source": [
    "What happens under the hood\n",
    "\n",
    "* We map intial features to a new space\n",
    "* This new space is defined by a jernel that we choose\n",
    "* Them we do linear classification in that space"
   ]
  },
  {
   "cell_type": "markdown",
   "metadata": {},
   "source": [
    "\n",
    "<table><tr>\n",
    "<td> <img src=\"https://scikit-learn.org/stable/_images/sphx_glr_plot_iris_exercise_001.png\" alt=\"Drawing\" style=\"width: 500px;\"/> </td>\n",
    "<td> <img src=\"https://scikit-learn.org/stable/_images/sphx_glr_plot_iris_exercise_003.png\" alt=\"Drawing\" style=\"width: 500px;\"/> </td>\n",
    "    <td> <img src=\"https://scikit-learn.org/stable/_images/sphx_glr_plot_iris_exercise_002.png\" alt=\"Drawing\" style=\"width: 500px;\"/> </td>\n",
    "</tr></table>\n"
   ]
  },
  {
   "cell_type": "markdown",
   "metadata": {
    "slideshow": {
     "slide_type": "subslide"
    }
   },
   "source": [
    "## Learning Outcomes\n",
    "\n",
    "* Recall Linear Regression\n",
    "* Derive optimization problem for SVM\n",
    "* Understand what is a support vector\n",
    "* Understand what is a kernel and a kernel trick"
   ]
  }
 ],
 "metadata": {
  "celltoolbar": "Slideshow",
  "kernelspec": {
   "display_name": "BASE_ENV",
   "language": "python",
   "name": "base_env"
  },
  "language_info": {
   "codemirror_mode": {
    "name": "ipython",
    "version": 3
   },
   "file_extension": ".py",
   "mimetype": "text/x-python",
   "name": "python",
   "nbconvert_exporter": "python",
   "pygments_lexer": "ipython3",
   "version": "3.6.12"
  }
 },
 "nbformat": 4,
 "nbformat_minor": 4
}
