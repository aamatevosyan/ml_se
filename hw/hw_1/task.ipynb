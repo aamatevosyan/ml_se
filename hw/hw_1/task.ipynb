{
 "cells": [
  {
   "cell_type": "markdown",
   "metadata": {},
   "source": [
    "# HSE 2021: Mathematical Methods for Data Analysis\n",
    "\n",
    "## Homework 1"
   ]
  },
  {
   "cell_type": "code",
   "execution_count": 1,
   "metadata": {},
   "outputs": [],
   "source": [
    "%matplotlib inline\n",
    "import numpy as np\n",
    "import pandas as pd\n",
    "import matplotlib.pyplot as plt\n",
    "import seaborn as sns\n",
    "\n",
    "import random\n",
    "from math import sqrt\n",
    "\n",
    "from numpy.random import RandomState\n",
    "\n",
    "# used to setup random seed\n",
    "rs = np.random.RandomState(1234)\n",
    "random.seed(11)"
   ]
  },
  {
   "cell_type": "markdown",
   "metadata": {},
   "source": [
    "# 1. Python (2 points)"
   ]
  },
  {
   "cell_type": "markdown",
   "metadata": {},
   "source": [
    "**Task 1** (0.5 points)<br/> \n",
    "Enter numbers `a`,  `d` и `N`. Find sum of the first `N` members of arithmetic progression with the first member `a` and difference `d`, without using formula for the sum."
   ]
  },
  {
   "cell_type": "code",
   "execution_count": 2,
   "metadata": {},
   "outputs": [
    {
     "name": "stdout",
     "output_type": "stream",
     "text": [
      "345\n"
     ]
    }
   ],
   "source": [
    "def find_sum(a,d,N):\n",
    "    arr_sum = sum([i * d + a for i in range(N)])\n",
    "    return arr_sum\n",
    "\n",
    "a = 2\n",
    "d = 3\n",
    "N = 15\n",
    "print(find_sum(a,d,N))"
   ]
  },
  {
   "cell_type": "markdown",
   "metadata": {},
   "source": [
    "**Task 2** (0.5 points) <br/> \n",
    "Enter an integer number `N`. Check if it is a prime number."
   ]
  },
  {
   "cell_type": "code",
   "execution_count": 3,
   "metadata": {},
   "outputs": [
    {
     "name": "stdout",
     "output_type": "stream",
     "text": [
      "3 True\n",
      "8 False\n",
      "13 True\n",
      "111 False\n",
      "113 True\n",
      "237 False\n",
      "307 True\n",
      "479 True\n",
      "481 False\n"
     ]
    }
   ],
   "source": [
    "def check_prime(N):\n",
    "    check_result = True\n",
    "\n",
    "    if N <= 1 : \n",
    "        check_result = False\n",
    "    elif N <= 3 : \n",
    "        check_result = True\n",
    "    elif N % 2 == 0 or N % 3 == 0 : \n",
    "        check_result  = False\n",
    "    else:\n",
    "        i = 5\n",
    "        while i * i <= N: \n",
    "            if N % i == 0 or N % (i + 2) == 0: \n",
    "                check_result  = False\n",
    "                break\n",
    "            i += 6\n",
    "        \n",
    "    return check_result\n",
    "\n",
    "for N in [3,8, 13, 111, 113, 237, 307, 479, 481]:\n",
    "    print(N, check_prime(N))"
   ]
  },
  {
   "cell_type": "markdown",
   "metadata": {},
   "source": [
    "**Task 3** (0.5 points) <br/> \n",
    "Find the first `N` prime numbers (you may use the function from the precious task)."
   ]
  },
  {
   "cell_type": "code",
   "execution_count": 4,
   "metadata": {},
   "outputs": [
    {
     "name": "stdout",
     "output_type": "stream",
     "text": [
      "[2, 3, 5, 7, 11]\n",
      "[2, 3, 5, 7, 11, 13, 17, 19, 23, 29]\n",
      "[2, 3, 5, 7, 11, 13, 17, 19, 23, 29, 31, 37, 41, 43, 47, 53, 59, 61, 67, 71]\n"
     ]
    }
   ],
   "source": [
    "def find_primes(N):\n",
    "    primes = []\n",
    "\n",
    "    if N >= 1:\n",
    "        primes.append(2)\n",
    "    \n",
    "    if N >= 2:\n",
    "        primes.append(3)\n",
    "\n",
    "        i = 0\n",
    "        while len(primes) < N:\n",
    "            if check_prime(i - 1):\n",
    "                primes.append(i - 1)\n",
    "            if check_prime(i + 1):\n",
    "                primes.append(i + 1)\n",
    "            i += 6\n",
    "        \n",
    "        if len(primes) > N:\n",
    "            primes = primes[:-1]\n",
    "    return primes\n",
    "\n",
    "print(find_primes(5))\n",
    "print(find_primes(10))\n",
    "print(find_primes(20))"
   ]
  },
  {
   "cell_type": "markdown",
   "metadata": {},
   "source": [
    "**Task 4** (0.5 points) <br/> \n",
    "There are numbers: `a`, `b`, `c`. Without using functions `min`, `max` and other functions, find the maximum number."
   ]
  },
  {
   "cell_type": "code",
   "execution_count": 5,
   "metadata": {},
   "outputs": [
    {
     "name": "stdout",
     "output_type": "stream",
     "text": [
      "-53 -62 -47 \tMaximum: -47\n",
      "16 52 43 \tMaximum: 52\n",
      "77 -77 54 \tMaximum: 77\n",
      "-70 71 58 \tMaximum: 71\n",
      "24 -74 18 \tMaximum: 24\n",
      "86 20 12 \tMaximum: 86\n",
      "-31 -20 27 \tMaximum: 27\n",
      "75 -50 -24 \tMaximum: 75\n",
      "-63 -66 66 \tMaximum: 66\n",
      "95 39 28 \tMaximum: 95\n"
     ]
    }
   ],
   "source": [
    "from random import randint\n",
    "def find_max(a, b, c):\n",
    "    max_ = a\n",
    "    if max_ < b:\n",
    "        max_ = b\n",
    "    if max_ < c:\n",
    "        max_ = c\n",
    "\n",
    "    return max_\n",
    "\n",
    "for i in range(10):\n",
    "    \n",
    "    a = rs.randint(-100, 100)\n",
    "    b = rs.randint(-100, 100)\n",
    "    c = rs.randint(-100, 100)\n",
    "    \n",
    "    print(a, b, c, '\\tMaximum:', find_max(a, b, c))"
   ]
  },
  {
   "cell_type": "markdown",
   "metadata": {},
   "source": [
    "# 2. Numpy (4 points)"
   ]
  },
  {
   "cell_type": "markdown",
   "metadata": {},
   "source": [
    "**Task 1** (0.5 points) <br/>\n",
    "Create a random array (`rs.rand()`) with length of 10 and with sum of its elements equals to 2."
   ]
  },
  {
   "cell_type": "code",
   "execution_count": 6,
   "metadata": {},
   "outputs": [
    {
     "name": "stdout",
     "output_type": "stream",
     "text": [
      "10\n",
      "1.9999999999999998\n"
     ]
    }
   ],
   "source": [
    "my_array = rs.rand(10)\n",
    "_sum = np.sum(my_array)\n",
    "my_array /= (_sum / 2)\n",
    "print(len(my_array))\n",
    "print(np.sum(my_array))"
   ]
  },
  {
   "cell_type": "markdown",
   "metadata": {},
   "source": [
    "**Task 2** (0.5 points) <br/>\n",
    "Create two random arrays $a$ and $b$ with the same length. \n",
    "\n",
    "Calculate the following distances between the arrays **without using special funcrion. You may only use basic numpy operations.**:\n",
    "\n",
    "* Euclidean Distance\n",
    "$$ d(a, b) = \\sqrt{\\sum_i (a_i - b_i)^2} $$\n",
    "* Manhattan Distance\n",
    "$$ d(a, b) = \\sum_i |a_i - b_i| $$\n",
    "* Cosine Distance\n",
    "$$ d(a, b) = 1 - \\frac{a^\\top b}{||a||_2\\cdot||b||_2}$$"
   ]
  },
  {
   "cell_type": "code",
   "execution_count": 7,
   "metadata": {},
   "outputs": [],
   "source": [
    "def cal_euclidean(a, b):    \n",
    "    distance = sqrt(((a - b) ** 2).sum())\n",
    "    return distance\n",
    "\n",
    "def cal_manhattan(a, b):    \n",
    "    distance = np.abs(a - b).sum()\n",
    "    return distance\n",
    "\n",
    "def cal_cosine(a, b):    \n",
    "    distance = 1 - np.dot(a.T, b) / (cal_euclidean(a, 0) * cal_euclidean(b, 0))\n",
    "    return distance"
   ]
  },
  {
   "cell_type": "code",
   "execution_count": 8,
   "metadata": {},
   "outputs": [
    {
     "name": "stdout",
     "output_type": "stream",
     "text": [
      "23.2379000772445\n",
      "58\n",
      "0.8516611889193367\n"
     ]
    }
   ],
   "source": [
    "a = rs.randint(-10, 10, size=10)\n",
    "b = rs.randint(-10, 10, size=10)\n",
    "print(cal_euclidean(a, b))\n",
    "print(cal_manhattan(a, b))\n",
    "print(cal_cosine(a, b))"
   ]
  },
  {
   "cell_type": "markdown",
   "metadata": {},
   "source": [
    "**Task 3** (0.5 points) <br/>\n",
    "Create a random array (`rs.randint()`) with length of 100. Transform the array so that \n",
    "* Maximum element(s) value is 1\n",
    "* Minimum element(s) value is 0\n",
    "* Other values are in interval 0-1 with keeping the order"
   ]
  },
  {
   "cell_type": "code",
   "execution_count": 9,
   "metadata": {},
   "outputs": [
    {
     "name": "stdout",
     "output_type": "stream",
     "text": [
      "1.0 0.0\n",
      "[0.18592965 0.54773869 0.19095477 0.67839196 0.9798995  0.66834171\n",
      " 0.2361809  0.59296482 0.87939698 0.71859296 0.17085427 0.05025126\n",
      " 0.14070352 0.0201005  0.4120603  0.51758794 0.44723618 0.27638191\n",
      " 0.3919598  0.75879397 0.89447236 0.31155779 0.91959799 0.42211055\n",
      " 0.52763819 0.         0.6080402  0.49246231 0.45226131 0.80904523\n",
      " 0.57286432 0.6080402  0.10552764 1.         0.98492462 0.59798995\n",
      " 0.90452261 0.96482412 0.58291457 0.52763819 0.57286432 0.84924623\n",
      " 0.00502513 0.71356784 0.01507538 0.15075377 0.70351759 0.54773869\n",
      " 0.09547739 0.13065327 0.34170854 0.61809045 0.32160804 0.75376884\n",
      " 0.92462312 0.68341709 0.86432161 0.7638191  0.07537688 0.36180905\n",
      " 0.65326633 0.72361809 0.53768844 0.65326633 0.39698492 0.9798995\n",
      " 0.23115578 0.28643216 0.91959799 0.18090452 0.44221106 0.80904523\n",
      " 0.6080402  0.85427136 0.01005025 0.54773869 0.1758794  0.09045226\n",
      " 0.38190955 0.98994975 0.5879397  0.40703518 0.04020101 0.37688442\n",
      " 0.07537688 0.10050251 0.08040201 0.96482412 0.30653266 0.5678392\n",
      " 0.48241206 0.63316583 0.28643216 0.24623116 0.31155779 0.92964824\n",
      " 0.77889447 0.43718593 0.81909548 0.8241206 ]\n"
     ]
    }
   ],
   "source": [
    "def normalize(v):\n",
    "    max_ = v.max()\n",
    "    min_ = v.min()\n",
    "    return (v - min_) / (max_ - min_)\n",
    "\n",
    "my_array = normalize(rs.randint(-100, 100, size=100))\n",
    "print(np.max(my_array), np.min(my_array))\n",
    "print(my_array)"
   ]
  },
  {
   "cell_type": "markdown",
   "metadata": {},
   "source": [
    "**Task 4** (0.5 points) <br/>\n",
    "Create an array with shape of $5 \\times 6$ with integers from [0,50]. Print a column that contains the maximum element of the array."
   ]
  },
  {
   "cell_type": "code",
   "execution_count": 10,
   "metadata": {},
   "outputs": [
    {
     "name": "stdout",
     "output_type": "stream",
     "text": [
      "Shape:  (5, 6)\n",
      "Array\n",
      "[[20 28  1 11 17 30]\n",
      " [38 34 25 39 24 12]\n",
      " [12 32  8 47 23 25]\n",
      " [45 21 22 45 19 41]\n",
      " [47 36 39 39 17 39]]\n",
      "[11 39 47 45 39]\n"
     ]
    }
   ],
   "source": [
    "my_array = rs.randint(0, 51, size=(5, 6))\n",
    "selected_column = my_array[:,np.unravel_index(np.argmax(my_array, axis=None), my_array.shape)[1]]\n",
    "print('Shape: ',my_array.shape)\n",
    "print('Array')\n",
    "print(my_array)\n",
    "print(selected_column)"
   ]
  },
  {
   "cell_type": "markdown",
   "metadata": {},
   "source": [
    "**Task 5** (0.5 points) <br/>\n",
    "\n",
    "Replace all missing values in the following array with mean."
   ]
  },
  {
   "cell_type": "code",
   "execution_count": 11,
   "metadata": {},
   "outputs": [
    {
     "data": {
      "text/plain": [
       "array([0.62588308, 0.22036227,        nan, 0.47767162, 0.97434208,\n",
       "       0.77298466, 0.02713854,        nan,        nan,        nan])"
      ]
     },
     "execution_count": 11,
     "metadata": {},
     "output_type": "execute_result"
    }
   ],
   "source": [
    "arr = rs.rand(10)\n",
    "idx = rs.randint(0, 10, 4)\n",
    "arr[idx] = np.nan\n",
    "\n",
    "arr"
   ]
  },
  {
   "cell_type": "code",
   "execution_count": 12,
   "metadata": {},
   "outputs": [
    {
     "name": "stdout",
     "output_type": "stream",
     "text": [
      "[0.62588308 0.22036227 0.51639704 0.47767162 0.97434208 0.77298466\n",
      " 0.02713854 0.51639704 0.51639704 0.51639704]\n"
     ]
    }
   ],
   "source": [
    "## Your code here\n",
    "_mean = np.nanmean(arr)\n",
    "arr = np.nan_to_num(arr, nan=_mean)\n",
    "print(arr)"
   ]
  },
  {
   "cell_type": "markdown",
   "metadata": {},
   "source": [
    "**Task 6** (0.5 points) <br/>\n",
    "Create a function which takes an image ```X``` (3D array of the shape (n, m, 3)) as an input and returns the mean for all 3 channels (a vector of shape 3)."
   ]
  },
  {
   "cell_type": "code",
   "execution_count": 13,
   "metadata": {},
   "outputs": [],
   "source": [
    "def mean_channel(X):\n",
    "    mean_vector = np.array([np.mean(X[:, :, i]) for i in range(3)])\n",
    "    return mean_vector"
   ]
  },
  {
   "cell_type": "code",
   "execution_count": 14,
   "metadata": {},
   "outputs": [
    {
     "data": {
      "text/plain": [
       "array([-0.14285714, -0.51116071, -0.14508929])"
      ]
     },
     "execution_count": 14,
     "metadata": {},
     "output_type": "execute_result"
    }
   ],
   "source": [
    "N = 28\n",
    "m = 16\n",
    "X =  rs.randint(-10, 10, size=(N, m, 3))\n",
    "mean_channel(X)"
   ]
  },
  {
   "cell_type": "markdown",
   "metadata": {},
   "source": [
    "**Task 7** (1 points) <br/>\n",
    "Create a function which takes a matrix ```X``` as an input and returns all its unique rows as a matrix, i.e. in a 3D matrix you need to return all unique horizontal layers.\n",
    "\n",
    "Sample input:\n",
    "\n",
    "     ([[[4, 4],\n",
    "        [5, 5]],\n",
    "\n",
    "       [[4, 5],\n",
    "        [5, 5]],\n",
    "\n",
    "       [[4, 4],\n",
    "        [5, 4]],\n",
    "\n",
    "       [[4, 5],\n",
    "        [5, 5]],\n",
    "\n",
    "       [[5, 4],\n",
    "        [4, 4]],\n",
    "\n",
    "       [[5, 5],\n",
    "        [4, 5]]])\n",
    "        \n",
    "Sample output:\n",
    "\n",
    "     ([[[4, 4],\n",
    "        [5, 5]],\n",
    "\n",
    "       [[4, 5],\n",
    "        [5, 5]],\n",
    "\n",
    "       [[4, 4],\n",
    "        [5, 4]],\n",
    "\n",
    "       [[5, 4],\n",
    "        [4, 4]],\n",
    "\n",
    "       [[5, 5],\n",
    "        [4, 5]]])"
   ]
  },
  {
   "cell_type": "code",
   "execution_count": 15,
   "metadata": {},
   "outputs": [],
   "source": [
    "def get_unique_rows(X):\n",
    "    # Your code here\n",
    "    X_unique = np.unique(X, axis=0)\n",
    "    return X_unique"
   ]
  },
  {
   "cell_type": "code",
   "execution_count": 40,
   "metadata": {},
   "outputs": [],
   "source": [
    "X =  rs.randint(4, 6, size=(N, 2, 2))\n",
    "X = np.array([[[5, 5],\n",
    "        [4, 5]],\n",
    "\n",
    "       [[5, 5],\n",
    "        [5, 5]],\n",
    "\n",
    "       [[5, 5],\n",
    "        [4, 5]],\n",
    "\n",
    "       [[4, 5],\n",
    "        [4, 5]],\n",
    "\n",
    "       [[4, 4],\n",
    "        [5, 5]],\n",
    "\n",
    "       [[4, 5],\n",
    "        [5, 5]],\n",
    "\n",
    "       [[5, 4],\n",
    "        [5, 5]],\n",
    "\n",
    "       [[4, 4],\n",
    "        [5, 4]],\n",
    "\n",
    "       [[5, 4],\n",
    "        [4, 5]],\n",
    "\n",
    "       [[4, 5],\n",
    "        [5, 4]],\n",
    "\n",
    "       [[4, 5],\n",
    "        [4, 5]],\n",
    "\n",
    "       [[4, 5],\n",
    "        [4, 4]],\n",
    "\n",
    "       [[5, 4],\n",
    "        [4, 5]],\n",
    "\n",
    "       [[5, 4],\n",
    "        [5, 5]],\n",
    "\n",
    "       [[4, 5],\n",
    "        [4, 4]],\n",
    "\n",
    "       [[5, 5],\n",
    "        [4, 4]],\n",
    "\n",
    "       [[5, 5],\n",
    "        [4, 5]],\n",
    "\n",
    "       [[5, 5],\n",
    "        [4, 5]],\n",
    "\n",
    "       [[4, 5],\n",
    "        [4, 4]],\n",
    "\n",
    "       [[5, 4],\n",
    "        [4, 4]],\n",
    "\n",
    "       [[4, 4],\n",
    "        [4, 4]],\n",
    "\n",
    "       [[5, 5],\n",
    "        [5, 4]],\n",
    "\n",
    "       [[5, 4],\n",
    "        [5, 4]],\n",
    "\n",
    "       [[5, 5],\n",
    "        [4, 5]],\n",
    "\n",
    "       [[4, 4],\n",
    "        [5, 4]],\n",
    "\n",
    "       [[5, 5],\n",
    "        [4, 5]],\n",
    "\n",
    "       [[5, 4],\n",
    "        [5, 4]],\n",
    "\n",
    "       [[5, 4],\n",
    "        [4, 4]]])"
   ]
  },
  {
   "cell_type": "code",
   "execution_count": 41,
   "metadata": {},
   "outputs": [
    {
     "data": {
      "text/plain": [
       "array([[[4, 4],\n",
       "        [4, 4]],\n",
       "\n",
       "       [[4, 4],\n",
       "        [5, 4]],\n",
       "\n",
       "       [[4, 4],\n",
       "        [5, 5]],\n",
       "\n",
       "       [[4, 5],\n",
       "        [4, 4]],\n",
       "\n",
       "       [[4, 5],\n",
       "        [4, 5]],\n",
       "\n",
       "       [[4, 5],\n",
       "        [5, 4]],\n",
       "\n",
       "       [[4, 5],\n",
       "        [5, 5]],\n",
       "\n",
       "       [[5, 4],\n",
       "        [4, 4]],\n",
       "\n",
       "       [[5, 4],\n",
       "        [4, 5]],\n",
       "\n",
       "       [[5, 4],\n",
       "        [5, 4]],\n",
       "\n",
       "       [[5, 4],\n",
       "        [5, 5]],\n",
       "\n",
       "       [[5, 5],\n",
       "        [4, 4]],\n",
       "\n",
       "       [[5, 5],\n",
       "        [4, 5]],\n",
       "\n",
       "       [[5, 5],\n",
       "        [5, 4]],\n",
       "\n",
       "       [[5, 5],\n",
       "        [5, 5]]])"
      ]
     },
     "execution_count": 41,
     "metadata": {},
     "output_type": "execute_result"
    }
   ],
   "source": [
    "get_unique_rows(X)"
   ]
  },
  {
   "cell_type": "markdown",
   "metadata": {},
   "source": [
    "# 3. Pandas & Visualization (4 points)"
   ]
  },
  {
   "cell_type": "markdown",
   "metadata": {},
   "source": [
    "\n",
    "meta = {\n",
    "    \"C\": \"Cherbourg\",\n",
    "    \"Q\": \"Queenstown\",\n",
    "    \"S\": \"Southampton\",\n",
    "    \"nan\": nan\n",
    "}You are going to work with *Titanic* dataset which contains information about passengers of Titanic:\n",
    "- **Survived** - 1 - survived, 0 - died (0); **Target variable**\n",
    "- **pclass** - passengers's class;\n",
    "- **sex** - passengers's sex\n",
    "- **Age** - passengers's age in years\n",
    "- **sibsp**    - is the passenger someones siblings   \n",
    "- **parch**    - is the passenger someones child or parent\n",
    "- **ticket** - ticket number    \n",
    "- **fare** - ticket price    \n",
    "- **cabin** - cabin number\n",
    "- **embarked** - port of Embarkation; C = Cherbourg, Q = Queenstown, S = Southampton\n",
    "\n",
    "**Note** for all visualizations use matplotlib or seaborn but NOT plotly! Plotly's graphics sometimes vanish after saving. In this case the task wont't be graded.\n",
    "\n",
    "**Note** support all your answers with necessary code, computations, vizualization, and explanation. Answers without code and explanation won't be graded."
   ]
  },
  {
   "cell_type": "code",
   "execution_count": 18,
   "metadata": {},
   "outputs": [
    {
     "name": "stdout",
     "output_type": "stream",
     "text": [
      "<class 'pandas.core.frame.DataFrame'>\n",
      "RangeIndex: 891 entries, 0 to 890\n",
      "Data columns (total 12 columns):\n",
      " #   Column       Non-Null Count  Dtype  \n",
      "---  ------       --------------  -----  \n",
      " 0   PassengerId  891 non-null    int64  \n",
      " 1   Survived     891 non-null    int64  \n",
      " 2   Pclass       891 non-null    int64  \n",
      " 3   Name         891 non-null    object \n",
      " 4   Sex          891 non-null    object \n",
      " 5   Age          714 non-null    float64\n",
      " 6   SibSp        891 non-null    int64  \n",
      " 7   Parch        891 non-null    int64  \n",
      " 8   Ticket       891 non-null    object \n",
      " 9   Fare         891 non-null    float64\n",
      " 10  Cabin        204 non-null    object \n",
      " 11  Embarked     889 non-null    object \n",
      "dtypes: float64(2), int64(5), object(5)\n",
      "memory usage: 83.7+ KB\n"
     ]
    }
   ],
   "source": [
    "# load the dataset\n",
    "dataset =  pd.read_csv(\"titanic.csv\", delimiter=\",\", header=0)\n",
    "dataset.info()"
   ]
  },
  {
   "cell_type": "markdown",
   "metadata": {},
   "source": [
    "**Task 1** (1 points) <br/>\n",
    "Answer the following questions:\n",
    "    \n",
    "    * Are there any missing values? In what columns?\n",
    "    * How many classes (pclass) were there on Tinanic?\n",
    "    * What is the percentage of survived passengers? Are the classes balanced?\n",
    "    * What is the average ticket fare?\n",
    "    * What what the most popular port of embarkation?\n",
    "Please, write not only the answers but the code, proving it."
   ]
  },
  {
   "cell_type": "code",
   "execution_count": 19,
   "metadata": {},
   "outputs": [
    {
     "data": {
      "text/plain": [
       "PassengerId      0\n",
       "Survived         0\n",
       "Pclass           0\n",
       "Name             0\n",
       "Sex              0\n",
       "Age            177\n",
       "SibSp            0\n",
       "Parch            0\n",
       "Ticket           0\n",
       "Fare             0\n",
       "Cabin          687\n",
       "Embarked         2\n",
       "dtype: int64"
      ]
     },
     "execution_count": 19,
     "metadata": {},
     "output_type": "execute_result"
    }
   ],
   "source": [
    "dataset.isna().sum()"
   ]
  },
  {
   "cell_type": "markdown",
   "metadata": {
    "pycharm": {
     "name": "#%% md\n"
    }
   },
   "source": [
    "Result contains non 0 values.\n",
    "There are columns which contains missing values: Age, Cabin, Embarked"
   ]
  },
  {
   "cell_type": "code",
   "execution_count": 20,
   "metadata": {
    "collapsed": false,
    "jupyter": {
     "outputs_hidden": false
    },
    "pycharm": {
     "name": "#%%\n"
    }
   },
   "outputs": [
    {
     "data": {
      "text/plain": [
       "array([3, 1, 2])"
      ]
     },
     "execution_count": 20,
     "metadata": {},
     "output_type": "execute_result"
    }
   ],
   "source": [
    "dataset.Pclass.unique()"
   ]
  },
  {
   "cell_type": "markdown",
   "metadata": {
    "pycharm": {
     "name": "#%% md\n"
    }
   },
   "source": [
    "As result shows, there are 3 pclasses."
   ]
  },
  {
   "cell_type": "code",
   "execution_count": 21,
   "metadata": {
    "collapsed": false,
    "jupyter": {
     "outputs_hidden": false
    },
    "pycharm": {
     "name": "#%%\n"
    }
   },
   "outputs": [
    {
     "name": "stdout",
     "output_type": "stream",
     "text": [
      "Died passengers percentage: 61.61616161616161\n",
      "Survived passengers percentage: 38.38383838383838\n"
     ]
    },
    {
     "data": {
      "text/plain": [
       "<AxesSubplot:title={'center':'Passengers'}>"
      ]
     },
     "execution_count": 21,
     "metadata": {},
     "output_type": "execute_result"
    },
    {
     "data": {
      "image/png": "[encoded data removed]",
      "text/plain": [
       "<Figure size 432x288 with 1 Axes>"
      ]
     },
     "metadata": {
      "needs_background": "light"
     },
     "output_type": "display_data"
    }
   ],
   "source": [
    "print(f\"Died passengers percentage: {(dataset[dataset.Survived == 0].size / dataset.size) * 100}\")\n",
    "print(f\"Survived passengers percentage: {(dataset[dataset.Survived == 1].size / dataset.size) * 100}\")\n",
    "dataset.Survived.value_counts()\\\n",
    "    .rename({\n",
    "        0 : 'Died',\n",
    "        1 : 'Survived'\n",
    "    })\\\n",
    "    .plot.bar(title=\"Passengers\")"
   ]
  },
  {
   "cell_type": "markdown",
   "metadata": {},
   "source": [
    "It can be seen, that the percentage of died passengers(61.6%) overflow the percentage of survived ones (38.4%)."
   ]
  },
  {
   "cell_type": "code",
   "execution_count": 22,
   "metadata": {},
   "outputs": [
    {
     "data": {
      "text/plain": [
       "1    136\n",
       "3    119\n",
       "2     87\n",
       "Name: Pclass, dtype: int64"
      ]
     },
     "execution_count": 22,
     "metadata": {},
     "output_type": "execute_result"
    }
   ],
   "source": [
    "_sum = dataset[dataset.Survived == 1].Pclass.value_counts().sum()\n",
    "dataset[dataset.Survived == 1].Pclass.value_counts()"
   ]
  },
  {
   "cell_type": "code",
   "execution_count": 23,
   "metadata": {},
   "outputs": [
    {
     "data": {
      "text/plain": [
       "1     39.76608187134503 %\n",
       "3      34.7953216374269 %\n",
       "2    25.438596491228072 %\n",
       "Name: Pclass, dtype: object"
      ]
     },
     "execution_count": 23,
     "metadata": {},
     "output_type": "execute_result"
    }
   ],
   "source": [
    "dataset[dataset.Survived == 1].Pclass.value_counts().apply(lambda x: f\"{x / _sum * 100} %\")"
   ]
  },
  {
   "cell_type": "code",
   "execution_count": 24,
   "metadata": {},
   "outputs": [
    {
     "data": {
      "text/plain": [
       "<AxesSubplot:title={'center':'Survived passengers grouped by Pclass'}>"
      ]
     },
     "execution_count": 24,
     "metadata": {},
     "output_type": "execute_result"
    },
    {
     "data": {
      "image/png": "[encoded data removed]",
      "text/plain": [
       "<Figure size 432x288 with 1 Axes>"
      ]
     },
     "metadata": {
      "needs_background": "light"
     },
     "output_type": "display_data"
    }
   ],
   "source": [
    "dataset[dataset.Survived == 1].Pclass.value_counts().plot.bar(title=\"Survived passengers grouped by Pclass\")"
   ]
  },
  {
   "cell_type": "markdown",
   "metadata": {
    "pycharm": {
     "name": "#%% md\n"
    }
   },
   "source": [
    "It can be easily noted that classes aren't good balanced by looking at the proportion of the third column with the first and second one."
   ]
  },
  {
   "cell_type": "code",
   "execution_count": 25,
   "metadata": {
    "collapsed": false,
    "jupyter": {
     "outputs_hidden": false
    },
    "pycharm": {
     "name": "#%%\n"
    }
   },
   "outputs": [
    {
     "name": "stdout",
     "output_type": "stream",
     "text": [
      "Average ticket fare: 32.2042079685746\n"
     ]
    }
   ],
   "source": [
    "print(f\"Average ticket fare: {dataset.Fare.mean()}\")"
   ]
  },
  {
   "cell_type": "markdown",
   "metadata": {
    "pycharm": {
     "name": "#%% md\n"
    }
   },
   "source": [
    "Average ticket fare is approximately 32 Pound sterling."
   ]
  },
  {
   "cell_type": "code",
   "execution_count": 26,
   "metadata": {
    "collapsed": false,
    "jupyter": {
     "outputs_hidden": false
    },
    "pycharm": {
     "name": "#%%\n"
    }
   },
   "outputs": [
    {
     "data": {
      "text/plain": [
       "Southampton    644\n",
       "Cherbourg      168\n",
       "Queenstown      77\n",
       "Name: Embarked, dtype: int64"
      ]
     },
     "execution_count": 26,
     "metadata": {},
     "output_type": "execute_result"
    }
   ],
   "source": [
    "dataset.Embarked.value_counts()\\\n",
    "    .rename({\n",
    "        \"C\": \"Cherbourg\",\n",
    "        \"Q\": \"Queenstown\",\n",
    "        \"S\": \"Southampton\"\n",
    "    })"
   ]
  },
  {
   "cell_type": "markdown",
   "metadata": {
    "pycharm": {
     "name": "#%% md\n"
    }
   },
   "source": [
    "Southampton is the most popular port of Embarkation."
   ]
  },
  {
   "cell_type": "markdown",
   "metadata": {},
   "source": [
    "**Task 2** (1 points) <br/>\n",
    "Find all the titles of the passengers (example, *Capt., Mr.,Mme.*), which are written in the column Name, and answer the following questions:\n",
    "\n",
    "    * How many are there unique titles?\n",
    "    * How many are there passengers with every title?\n",
    "    * What is the most popular man's title? And woman's title?\n",
    "    \n",
    "**Hint** You may select the title from the name as a word which contains a dot."
   ]
  },
  {
   "cell_type": "code",
   "execution_count": 27,
   "metadata": {},
   "outputs": [
    {
     "name": "stdout",
     "output_type": "stream",
     "text": [
      "Unique titles: ['Mr.' 'Mrs.' 'Miss.' 'Master.' 'Don.' 'Rev.' 'Dr.' 'Mme.' 'Ms.' 'Major.'\n",
      " 'Lady.' 'Sir.' 'Mlle.' 'Col.' 'Capt.' 'Countess.' 'Jonkheer.']\n",
      "Number of unique titles: 17\n"
     ]
    }
   ],
   "source": [
    "titles = dataset.Name.str.findall(r\"\\w+\\.\").apply(lambda x: x[0])\n",
    "print(f\"Unique titles: {titles.unique()}\")\n",
    "print(f\"Number of unique titles: {titles.unique().size}\")"
   ]
  },
  {
   "cell_type": "code",
   "execution_count": 28,
   "metadata": {
    "collapsed": false,
    "jupyter": {
     "outputs_hidden": false
    },
    "pycharm": {
     "name": "#%%\n"
    }
   },
   "outputs": [
    {
     "data": {
      "text/plain": [
       "Mr.          517\n",
       "Miss.        182\n",
       "Mrs.         125\n",
       "Master.       40\n",
       "Dr.            7\n",
       "Rev.           6\n",
       "Col.           2\n",
       "Mlle.          2\n",
       "Major.         2\n",
       "Capt.          1\n",
       "Jonkheer.      1\n",
       "Countess.      1\n",
       "Lady.          1\n",
       "Mme.           1\n",
       "Don.           1\n",
       "Sir.           1\n",
       "Ms.            1\n",
       "Name: Name, dtype: int64"
      ]
     },
     "execution_count": 28,
     "metadata": {},
     "output_type": "execute_result"
    }
   ],
   "source": [
    "titles.value_counts()"
   ]
  },
  {
   "cell_type": "markdown",
   "metadata": {
    "pycharm": {
     "name": "#%% md\n"
    }
   },
   "source": [
    "There are 17 unique titles.\n",
    "The most popular man's title is \"Mr.\" and for woman it is - \"Miss.\""
   ]
  },
  {
   "cell_type": "markdown",
   "metadata": {},
   "source": [
    "**Task 3** (0.5 points) <br/>\n",
    "Visualize age distribution (you may use a histogram, for example). \n",
    "\n",
    "    * What is the minimal and maximum ages of the passengers? Visualize it on the plot\n",
    "    * What is the mean age? Visualize it on the plot\n",
    "    * Make conclusions about what you see on the plot"
   ]
  },
  {
   "cell_type": "code",
   "execution_count": 29,
   "metadata": {},
   "outputs": [
    {
     "name": "stdout",
     "output_type": "stream",
     "text": [
      "Minimal age: 0.42\n",
      "Maximal age: 80.0\n",
      "Mean age: 29.69911764705882\n"
     ]
    },
    {
     "data": {
      "image/png": "[encoded data removed]",
      "text/plain": [
       "<Figure size 432x288 with 1 Axes>"
      ]
     },
     "metadata": {
      "needs_background": "light"
     },
     "output_type": "display_data"
    }
   ],
   "source": [
    "print(f'Minimal age: {dataset.Age.min()}')\n",
    "print(f'Maximal age: {dataset.Age.max()}')\n",
    "print(f'Mean age: {dataset.Age.mean()}')\n",
    "\n",
    "sns.boxplot(x=dataset.Age, showmeans=True, meanline=True);"
   ]
  },
  {
   "cell_type": "markdown",
   "metadata": {
    "pycharm": {
     "name": "#%% md\n"
    }
   },
   "source": [
    "Plot above shows that the most frequently appeared ages belongs to range [20, 40] and the mean age of is almost 30.\n",
    "The major group of ages belongs to young adults."
   ]
  },
  {
   "cell_type": "markdown",
   "metadata": {},
   "source": [
    "**Task 4** (0.5 points) <br/>\n",
    "Visualize age distribution for survived and not survived passengers separately and calculate the mean age for each class. Are they different? Make conclusions about what you see on the plot"
   ]
  },
  {
   "cell_type": "code",
   "execution_count": 30,
   "metadata": {},
   "outputs": [
    {
     "name": "stdout",
     "output_type": "stream",
     "text": [
      "Died passengers mean age: 30.62617924528302\n",
      "Survived passengers mean age: 28.343689655172415\n"
     ]
    },
    {
     "data": {
      "image/png": "[encoded data removed]",
      "text/plain": [
       "<Figure size 1800x720 with 2 Axes>"
      ]
     },
     "metadata": {
      "needs_background": "light"
     },
     "output_type": "display_data"
    }
   ],
   "source": [
    "fig, ax = plt.subplots(\n",
    "    nrows = 1, ncols = 2,\n",
    "    figsize = (25, 10)\n",
    ")\n",
    "\n",
    "meta = {\n",
    "    0: \"Died\",\n",
    "    1: \"Survived\"\n",
    "}\n",
    "\n",
    "for cond in meta:\n",
    "    s = dataset[dataset.Survived == cond].Age\n",
    "    ax_ = ax[cond]\n",
    "    print(f'{meta[cond]} passengers mean age: {s.mean()}')\n",
    "\n",
    "    sns.histplot(s, ax=ax_, bins=30)\n",
    "    ax_.set_title('Survived passengers age distribution')\n",
    "\n",
    "plt.show()"
   ]
  },
  {
   "cell_type": "markdown",
   "metadata": {
    "pycharm": {
     "name": "#%% md\n"
    }
   },
   "source": [
    "It can be seen that both distributions the most frequent ages contains in range [20, 40].\n",
    "As the largest age group belongs to young adult, the fact above is obvious. As for mean values,\n",
    "they are close.\n",
    "\n",
    "It can be seen that passengers with aged up to 10 survived more frequently and on the other side, the ones which were\n",
    "older than 60 died more frequently :((."
   ]
  },
  {
   "cell_type": "markdown",
   "metadata": {},
   "source": [
    "**Task 5** (0.5 points) <br/>\n",
    "Is there correlation between the port of embarkation and the ticket price? Calculate mean price for each port and visualize prize distribution for each port. Make conclusions about what you see on the plot\n",
    "\n",
    "Hint: you could make one or several plot types i.e.  box, violine, pair, histogram (see additional notebooks for Seminar 1 \"Visualization with Seaborn\"). main point here is to **choose** plots wisely and **make meaningful conclusions**\n"
   ]
  },
  {
   "cell_type": "code",
   "execution_count": 31,
   "metadata": {
    "collapsed": false,
    "jupyter": {
     "outputs_hidden": false
    },
    "pycharm": {
     "name": "#%%\n"
    }
   },
   "outputs": [
    {
     "data": {
      "text/plain": [
       "Embarked\n",
       "Cherbourg      59.954144\n",
       "Queenstown     13.276030\n",
       "Southampton    27.079812\n",
       "Name: Fare, dtype: float64"
      ]
     },
     "execution_count": 31,
     "metadata": {},
     "output_type": "execute_result"
    }
   ],
   "source": [
    "dataset.groupby('Embarked').Fare.mean().rename({\n",
    "        \"C\": \"Cherbourg\",\n",
    "        \"Q\": \"Queenstown\",\n",
    "        \"S\": \"Southampton\"\n",
    "    })"
   ]
  },
  {
   "cell_type": "code",
   "execution_count": 32,
   "metadata": {},
   "outputs": [
    {
     "data": {
      "text/plain": [
       "<AxesSubplot:title={'center':'Fare costs mean for ports'}, xlabel='Embarked'>"
      ]
     },
     "execution_count": 32,
     "metadata": {},
     "output_type": "execute_result"
    },
    {
     "data": {
      "image/png": "[encoded data removed]",
      "text/plain": [
       "<Figure size 432x288 with 1 Axes>"
      ]
     },
     "metadata": {
      "needs_background": "light"
     },
     "output_type": "display_data"
    }
   ],
   "source": [
    "dataset.groupby('Embarked').Fare.mean().rename({\n",
    "        \"C\": \"Cherbourg\",\n",
    "        \"Q\": \"Queenstown\",\n",
    "        \"S\": \"Southampton\"\n",
    "    })\\\n",
    ".plot.bar(title='Fare costs mean for ports')"
   ]
  },
  {
   "cell_type": "code",
   "execution_count": 33,
   "metadata": {
    "collapsed": false,
    "jupyter": {
     "outputs_hidden": false
    },
    "pycharm": {
     "name": "#%%\n"
    }
   },
   "outputs": [
    {
     "data": {
      "image/png": "[encoded data removed]",
      "text/plain": [
       "<Figure size 1440x360 with 1 Axes>"
      ]
     },
     "metadata": {
      "needs_background": "light"
     },
     "output_type": "display_data"
    }
   ],
   "source": [
    "fig, ax = plt.subplots(figsize = (20, 5))\n",
    "\n",
    "sns.boxplot(y=dataset.Embarked, x=dataset.Fare, showmeans=True, meanline=True)\n",
    "\n",
    "plt.show()"
   ]
  },
  {
   "cell_type": "markdown",
   "metadata": {},
   "source": [
    "It can be seen from plot above that there is correlation between tiket price and port.\n",
    "Most expensive tikcets belong to Cherbourg, also it has the biggest amount of sold tickets among other ports.\n",
    "As for Queenstown, it has the most cheap tickets compared to others.\n",
    "="
   ]
  },
  {
   "cell_type": "markdown",
   "metadata": {},
   "source": [
    "**Task 6** (0.5 points) <br/>\n",
    "The same question as in task 5 about correlation between *pclass* and *ticket priсe*."
   ]
  },
  {
   "cell_type": "code",
   "execution_count": 34,
   "metadata": {},
   "outputs": [
    {
     "data": {
      "text/plain": [
       "Pclass\n",
       "1    84.154687\n",
       "2    20.662183\n",
       "3    13.675550\n",
       "Name: Fare, dtype: float64"
      ]
     },
     "execution_count": 34,
     "metadata": {},
     "output_type": "execute_result"
    }
   ],
   "source": [
    "dataset.groupby('Pclass').Fare.mean()"
   ]
  },
  {
   "cell_type": "code",
   "execution_count": 35,
   "metadata": {},
   "outputs": [
    {
     "data": {
      "text/plain": [
       "<AxesSubplot:title={'center':'Fare costs mean for Pclasses'}, xlabel='Pclass'>"
      ]
     },
     "execution_count": 35,
     "metadata": {},
     "output_type": "execute_result"
    },
    {
     "data": {
      "image/png": "[encoded data removed]",
      "text/plain": [
       "<Figure size 432x288 with 1 Axes>"
      ]
     },
     "metadata": {
      "needs_background": "light"
     },
     "output_type": "display_data"
    }
   ],
   "source": [
    "dataset.groupby('Pclass').Fare.mean().plot.bar(title='Fare costs mean for Pclasses')"
   ]
  },
  {
   "cell_type": "code",
   "execution_count": 36,
   "metadata": {},
   "outputs": [
    {
     "data": {
      "image/png": "[encoded data removed]",
      "text/plain": [
       "<Figure size 1440x360 with 1 Axes>"
      ]
     },
     "metadata": {
      "needs_background": "light"
     },
     "output_type": "display_data"
    }
   ],
   "source": [
    "fig, ax = plt.subplots(figsize = (20, 5))\n",
    "\n",
    "sns.boxplot(y=dataset.Pclass.astype('str'), x=dataset.Fare, showmeans=True, meanline=True)\n",
    "\n",
    "plt.show()"
   ]
  },
  {
   "cell_type": "markdown",
   "metadata": {},
   "source": [
    "This case is similar with the one above. The plot above is simethrical to the previous one, but instead of ports we have Pclasses.\n",
    "It is obvious, that pclass 1 hase the most expensive and most large group of tickets. The 3 has the cheapest one among all of the others."
   ]
  }
 ],
 "metadata": {
  "kernelspec": {
   "display_name": "Python 3",
   "language": "python",
   "name": "python3"
  },
  "language_info": {
   "codemirror_mode": {
    "name": "ipython",
    "version": 3
   },
   "file_extension": ".py",
   "mimetype": "text/x-python",
   "name": "python",
   "nbconvert_exporter": "python",
   "pygments_lexer": "ipython3",
   "version": "3.8.8"
  }
 },
 "nbformat": 4,
 "nbformat_minor": 4
}
