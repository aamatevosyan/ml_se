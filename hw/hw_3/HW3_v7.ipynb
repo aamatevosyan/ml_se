{
 "cells": [
  {
   "cell_type": "markdown",
   "metadata": {
    "id": "s3v5HIUdDvY5"
   },
   "source": [
    "# HSE 2021: Mathematical Methods for Data Analysis\n",
    "\n",
    "## Homework 3\n",
    "\n",
    "**Warning 1**: some problems require (especially the lemmatization part) significant amount of time, so **it is better to start early (!)**\n",
    "\n",
    "**Warning 2**: it is critical to describe and explain what you are doing and why, use markdown cells"
   ]
  },
  {
   "cell_type": "code",
   "execution_count": 28,
   "metadata": {
    "id": "F7t9dYtdDvZC"
   },
   "outputs": [],
   "source": [
    "from typing import Tuple, List\n",
    "\n",
    "import matplotlib.pyplot as plt\n",
    "import numpy as np\n",
    "import pandas as pd\n",
    "import seaborn as sns\n",
    "\n",
    "from sklearn import svm\n",
    "from sklearn.metrics import *\n",
    "from sklearn.model_selection import train_test_split, GridSearchCV\n",
    "\n",
    "from tqdm.notebook import trange, tqdm\n",
    "%matplotlib inline\n",
    "\n",
    "sns.set(style=\"darkgrid\")"
   ]
  },
  {
   "cell_type": "markdown",
   "metadata": {
    "id": "fIHtwV6vDvZD"
   },
   "source": [
    "## PART 1: Logit model"
   ]
  },
  {
   "cell_type": "markdown",
   "metadata": {
    "id": "Q7XKEWcVDvZD"
   },
   "source": [
    "my_scorer = make_scorer(f1_score, greater_is_better=True, average='micro')\n",
    "parameters = {'kernel':('linear', 'rbf', 'poly'), 'C':[0.001, 0.01, 0.1, 1, 10, 100],\\\n",
    "              'decision_function_shape' : ['ovo', 'ovr']}\n",
    "svr = SVC(verbose = False, probability=True)\n",
    "clf = GridSearchCV(svr, parameters, scoring=my_scorer, cv=2, verbose=2)\n",
    "clf.fit(X_train, y_train)\n",
    "pred = clf.predict_proba(X_test)\n",
    "print('Best parameters: ', clf.best_params_)\n",
    "print(\"F1 score  = {0:6.2f}\".format(f1_score(y_test, np.argmax(pred, axis=1), average='micro')))We consider a binary classification problem. For prediction, we would like to use a logistic regression model. For regularization we add a combination of the $l_2$ and $l_1$ penalties (Elastic Net). \n",
    "\n",
    "Each object in the training dataset is indexed with $i$ and described by pair: features $x_i\\in\\mathbb{R}^{K}$ and binary labels $y_i$. The model parametrized with bias $w_0\\in\\mathbb{R}$ and weights $w\\in\\mathbb{R}^K$.\n",
    "\n",
    "The optimization problem with respect to the $w_0, w$ is the following (Elastic Net Loss):\n",
    "\n",
    "$$L(w, w_0) = \\frac{1}{N} \\sum_{i=1}^N \\ln(1+\\exp(-y_i(w^\\top x_i+w_0))) + \\gamma \\|w\\|_1 + \\beta \\|w\\|_2^2]$$"
   ]
  },
  {
   "cell_type": "markdown",
   "metadata": {
    "id": "j1eSuDKXFVZu"
   },
   "source": [
    "#### 1. [0.5 points]  Find the gradient of the Elastic Net loss and write its formulas (better in latex format) "
   ]
  },
  {
   "cell_type": "markdown",
   "metadata": {
    "id": "1zjH-YnPDvZD"
   },
   "source": [
    "\n",
    "$$L^{'}_{w}(w, w_0) = \\frac{1}{N} \\sum_{i=1}^N \\frac{-y_i x_i}{1 + \\exp(y_i(w^\\top x_i + w_0)))} + \\gamma \\cdot sign(w) + 2\\beta w$$.\n",
    "\n",
    "$$L^{'}_{w_0}(w, w_0) = \\frac{1}{N} \\sum_{i=1}^N \\frac{-y_i}{1 + \\exp(y_i(w^\\top x_i + w_0)))}$$."
   ]
  },
  {
   "cell_type": "markdown",
   "metadata": {
    "id": "Q_lIccN_DvZE"
   },
   "source": [
    "#### 2. [0.5 points] Implement the Elastic Net loss (as a function)"
   ]
  },
  {
   "cell_type": "code",
   "execution_count": 3,
   "metadata": {},
   "outputs": [],
   "source": [
    "def m_1(x: List[float]) -> float:\n",
    "    return np.linalg.norm(x, 1)\n",
    "\n",
    "def m_2(x: List[float]) -> float:\n",
    "    return np.linalg.norm(x, 2)"
   ]
  },
  {
   "cell_type": "code",
   "execution_count": 4,
   "metadata": {
    "id": "9QNfCtV5DvZE"
   },
   "outputs": [],
   "source": [
    "def loss(X, y, w: List[float], w0: float, gamma=1., beta=1.) -> float:\n",
    "    return np.log(1 + np.exp(np.multiply(-y, (w@X.T + w0)))).mean() + gamma * m_1(w) + beta * (m_2(w) ** 2)"
   ]
  },
  {
   "cell_type": "markdown",
   "metadata": {
    "id": "fIVoC6UmDvZE"
   },
   "source": [
    "#### 3. [0.5 points] Implement the gradient (as a function)"
   ]
  },
  {
   "cell_type": "code",
   "execution_count": 5,
   "metadata": {
    "id": "HWqBLGRADvZE"
   },
   "outputs": [],
   "source": [
    "def get_grad(X, y, w: List[float], w0: float, gamma=1., beta=1.) -> Tuple[List[float], float]:\n",
    "    sig = (-y) / (1 + np.exp(np.multiply(y, (w@X.T + w0))))\n",
    "    grad_w0 = sig.mean()\n",
    "    grad_w = ((sig@X) / len(y)) + gamma * np.sign(w) + 2 * beta * w    \n",
    "    return grad_w, grad_w0"
   ]
  },
  {
   "cell_type": "markdown",
   "metadata": {
    "id": "BhOb8HrtDvZF"
   },
   "source": [
    "#### Check yourself"
   ]
  },
  {
   "cell_type": "code",
   "execution_count": 6,
   "metadata": {
    "id": "3FxXTocHDvZF"
   },
   "outputs": [
    {
     "name": "stdout",
     "output_type": "stream",
     "text": [
      "[-2.73262181 -1.87176392  1.30051023  2.53598816 -2.71198278]\n",
      "-0.20782319347690742\n"
     ]
    }
   ],
   "source": [
    "np.random.seed(42)\n",
    "X = np.random.multivariate_normal(np.arange(5), np.eye(5), size=10)\n",
    "y = np.random.binomial(1, 0.42, size=10)\n",
    "w, w0 = np.random.normal(size=5), np.random.normal()\n",
    "\n",
    "grad_w, grad_w0 = get_grad(X, y, w, w0)\n",
    "print(grad_w)\n",
    "print(grad_w0)\n",
    "assert(np.allclose(grad_w,\n",
    "                   [-2.73262076, -1.87176281, 1.30051144, 2.53598941, -2.71198109],\n",
    "                   rtol=1e-2) & \\\n",
    "       np.allclose(grad_w0,\n",
    "                   -0.2078231418067844, \n",
    "                   rtol=1e-2)\n",
    ")"
   ]
  },
  {
   "cell_type": "markdown",
   "metadata": {
    "id": "LbqLfcrRDvZF"
   },
   "source": [
    "####  4. [1 point]  Implement gradient descent and plot the decision boundary of the result"
   ]
  },
  {
   "cell_type": "markdown",
   "metadata": {
    "id": "iIgiwQkjDvZF"
   },
   "source": [
    "The template provides basic sklearn API class. You are free to modify it in any convenient way."
   ]
  },
  {
   "cell_type": "code",
   "execution_count": 7,
   "metadata": {
    "id": "Thyeux0KDvZG"
   },
   "outputs": [],
   "source": [
    "from sklearn.base import BaseEstimator, ClassifierMixin"
   ]
  },
  {
   "cell_type": "code",
   "execution_count": 8,
   "metadata": {},
   "outputs": [],
   "source": [
    "class Logit(BaseEstimator, ClassifierMixin):\n",
    "    \n",
    "    negative_class = -1\n",
    "    positive_class = 1\n",
    "    \n",
    "    def __init__(self, beta=1.0, gamma=1.0, lr=1e-3, tolerance=0.01, max_iter=1000, random_state=42):\n",
    "        self.beta = beta        \n",
    "        self.gamma = gamma\n",
    "        self.tolerance= tolerance\n",
    "        self.max_iter= max_iter\n",
    "        self.learning_rate = lr\n",
    "        self.random_state = random_state\n",
    "        self.w = None\n",
    "        self.w0 = None\n",
    "        self.loss_history = None\n",
    "\n",
    "    def fit(self, X, y):\n",
    "        self.loss_history = []\n",
    "        \n",
    "        np.random.seed(self.random_state)\n",
    "        \n",
    "        self.w = np.random.sample(X.shape[1])\n",
    "        self.w0 = np.random.sample(1)\n",
    "        \n",
    "        self.loss_history.append(self.calc_loss(X, y))\n",
    "        \n",
    "        for iter_num in trange(2, self.max_iter + 1):\n",
    "            self.iter = iter_num\n",
    "            \n",
    "            if self.loss_history[-1] <= self.tolerance:\n",
    "                print(\"Reached tolerance\")\n",
    "                return self\n",
    "                \n",
    "            grad_w, grad_w0 = get_grad(X, y, self.w, self.w0, self.gamma, self.beta)\n",
    "            self.w = self.w - self.learning_rate * grad_w\n",
    "            self.w0 = self.w0 - self.learning_rate * grad_w0\n",
    "            \n",
    "            self.loss_history.append(self.calc_loss(X, y))\n",
    "\n",
    "        return self\n",
    "\n",
    "    \n",
    "    def predict(self, X):\n",
    "        if self.w is None:\n",
    "            raise Exception('Not trained yet')\n",
    "            \n",
    "        self_pred, _ = self.predict_proba(X)\n",
    "        \n",
    "        bin_classes = np.zeros_like(self_pred)\n",
    "        \n",
    "        bin_classes[self_pred < 0.5] = self.positive_class\n",
    "        bin_classes[self_pred >= 0.5] = self.negative_class\n",
    "        \n",
    "        return bin_classes\n",
    "\n",
    "        \n",
    "    def predict_proba(self, X):\n",
    "        return np.array([1 / (1 + np.exp(np.dot(X, self.w) + self.w0)),\\\n",
    "                         1 / (1 + np.exp(-np.dot(X, self.w) - self.w0))])\n",
    "    \n",
    "    def calc_loss(self, X, y):\n",
    "        \"\"\"\n",
    "        X: np.array of shape (l, d)\n",
    "        y: np.array of shape (l)\n",
    "        ---\n",
    "        output: float \n",
    "        \"\"\"\n",
    "        \n",
    "        return loss(X, y, self.w, self.w0, self.gamma, self.beta)"
   ]
  },
  {
   "cell_type": "code",
   "execution_count": 9,
   "metadata": {
    "id": "7SJX8Y6EDvZG"
   },
   "outputs": [],
   "source": [
    "# sample data to test your model\n",
    "from sklearn.datasets import make_classification\n",
    "X, y = make_classification(n_samples=180, n_features=2, n_redundant=0, n_informative=2,\n",
    "                               random_state=42, n_clusters_per_class=1)"
   ]
  },
  {
   "cell_type": "code",
   "execution_count": 10,
   "metadata": {
    "id": "u41kzwGTDvZH"
   },
   "outputs": [],
   "source": [
    "# a function to plot the decision boundary\n",
    "def plot_decision_boundary(model, X, y):\n",
    "    fig = plt.figure()\n",
    "    X1min, X2min = X.min(axis=0)\n",
    "    X1max, X2max = X.max(axis=0)\n",
    "    x1, x2 = np.meshgrid(np.linspace(X1min, X1max, 200),\n",
    "                         np.linspace(X2min, X2max, 200))\n",
    "    ypred = model.predict(np.c_[x1.ravel(), x2.ravel()])\n",
    "    ypred = ypred.reshape(x1.shape)\n",
    "    \n",
    "    plt.contourf(x1, x2, ypred, alpha=.4)\n",
    "    plt.scatter(X[:,0], X[:,1], c=y)"
   ]
  },
  {
   "cell_type": "code",
   "execution_count": 11,
   "metadata": {
    "id": "mNuYbsAoDvZI"
   },
   "outputs": [
    {
     "data": {
      "application/vnd.jupyter.widget-view+json": {
       "model_id": "7adb65e1b9914f109f08f378f2e4ed83",
       "version_major": 2,
       "version_minor": 0
      },
      "text/plain": [
       "  0%|          | 0/999 [00:00<?, ?it/s]"
      ]
     },
     "metadata": {},
     "output_type": "display_data"
    },
    {
     "data": {
      "image/png": "[encoded data removed]",
      "text/plain": [
       "<Figure size 432x288 with 1 Axes>"
      ]
     },
     "metadata": {},
     "output_type": "display_data"
    }
   ],
   "source": [
    "model = Logit(0,0)\n",
    "y[y == 0] = -1\n",
    "model.fit(X, y)\n",
    "plot_decision_boundary(model, X, y)"
   ]
  },
  {
   "cell_type": "markdown",
   "metadata": {
    "id": "Qi4WRhcADvZI"
   },
   "source": [
    "#### 5. [0.5 points] Plot loss diagram for the model, i.e. show the dependence of the loss function from the gradient descent steps"
   ]
  },
  {
   "cell_type": "code",
   "execution_count": 12,
   "metadata": {
    "id": "VyjMDAKuDvZI"
   },
   "outputs": [
    {
     "data": {
      "image/png": "[encoded data removed]",
      "text/plain": [
       "<Figure size 432x288 with 1 Axes>"
      ]
     },
     "metadata": {},
     "output_type": "display_data"
    }
   ],
   "source": [
    "plt.plot([x for x in range(0, len(model.loss_history))], model.loss_history, label='The dependence of the loss function from the gradient descent steps')\n",
    "plt.xlabel(\"Iteration\")\n",
    "plt.ylabel(\"Loss function\")\n",
    "plt.title('The dependence of the loss function from the gradient descent steps')\n",
    "plt.show()"
   ]
  },
  {
   "cell_type": "markdown",
   "metadata": {},
   "source": [
    "It can be seen that loss gets smaller over iteration, but change is not peaky."
   ]
  },
  {
   "cell_type": "markdown",
   "metadata": {
    "id": "0FhSCAv_DvZJ"
   },
   "source": [
    "## PART 2: Support Vector Machines"
   ]
  },
  {
   "cell_type": "markdown",
   "metadata": {
    "id": "lYyGsSxEDvZJ"
   },
   "source": [
    "#### 6. [1 point] Using the same dataset, train SVM Classifier from Sklearn.\n",
    "Investigate how different parameters influence the quality of the solution:\n",
    "+ Try several kernels: Linear, Polynomial, RBF (and others if you wish). Some Kernels have hypermeters: don't forget to try different.\n",
    "+ Regularization coefficient \n",
    "\n",
    "Show how these parameters affect accuracy, roc_auc and f1 score. \n",
    "Make plots for the dependencies between metrics and parameters. \n",
    "Try to formulate conclusions from the observations. How sensitive are kernels to hyperparameters? How sensitive is a solution to the regularization? Which kernel is prone to overfitting?"
   ]
  },
  {
   "cell_type": "code",
   "execution_count": 13,
   "metadata": {
    "id": "Nicu_O3IDvZK"
   },
   "outputs": [],
   "source": [
    "X_train, X_test, y_train, y_test = train_test_split(X, y, test_size=0.3,random_state=0)"
   ]
  },
  {
   "cell_type": "code",
   "execution_count": 14,
   "metadata": {},
   "outputs": [],
   "source": [
    "def _precision(_y, _pred_y, _proba):\n",
    "    return precision_score(_y, _pred_y, average='macro')\n",
    "\n",
    "def _recall(_y, _pred_y, _proba):\n",
    "    return recall_score(_y, _pred_y, average='macro')\n",
    "\n",
    "def _f1(_y, _pred_y, _proba):\n",
    "    return f1_score(_y, _pred_y, average='macro')\n",
    "\n",
    "def _accuracy(_y, _pred_y, _proba):\n",
    "    return accuracy_score(_y, _pred_y)\n",
    "\n",
    "def _roc_auc(_y, _pred_y, _proba):\n",
    "    return roc_auc_score(_y, _proba[:,1])"
   ]
  },
  {
   "cell_type": "code",
   "execution_count": 26,
   "metadata": {},
   "outputs": [],
   "source": [
    "_metrics = {\n",
    "    'Precision': _precision,\n",
    "    'Recall': _recall,\n",
    "    'F1-score': _f1,\n",
    "    'Accuracy': _accuracy,\n",
    "    'ROC-AUC': _roc_auc,\n",
    "}\n",
    "\n",
    "_labels = ['Negative', 'Positive']\n",
    "\n",
    "def show_results(_y, _pred_y, _proba):\n",
    "    for metric_label in _metrics:\n",
    "        print(f\"{metric_label}: {_metrics[metric_label](_y, _pred_y, _proba):6.2f}\")\n",
    "    print(\"\\n\")\n",
    "\n",
    "def show_confusion_matrix(_y, _pred_y, ax):\n",
    "    \n",
    "    _confusion_matrix = confusion_matrix(_y, _pred_y)\n",
    "    sns.heatmap(ax=ax, data=_confusion_matrix, annot=True, fmt=\"d\", cbar=False, xticklabels=_labels, yticklabels=_labels)"
   ]
  },
  {
   "cell_type": "code",
   "execution_count": 27,
   "metadata": {},
   "outputs": [
    {
     "name": "stdout",
     "output_type": "stream",
     "text": [
      "Linear\n",
      "\n",
      "Precision:   0.98\n",
      "Recall:   0.98\n",
      "F1-score:   0.98\n",
      "Accuracy:   0.98\n",
      "ROC-AUC:   1.00\n",
      "\n",
      "\n",
      "RBF\n",
      "\n",
      "Precision:   0.98\n",
      "Recall:   0.98\n",
      "F1-score:   0.98\n",
      "Accuracy:   0.98\n",
      "ROC-AUC:   1.00\n",
      "\n",
      "\n",
      "Poly\n",
      "\n",
      "Precision:   0.98\n",
      "Recall:   0.98\n",
      "F1-score:   0.98\n",
      "Accuracy:   0.98\n",
      "ROC-AUC:   1.00\n",
      "\n",
      "\n",
      "Poly, With Custom Degree\n",
      "\n",
      "Precision:   0.82\n",
      "Recall:   0.75\n",
      "F1-score:   0.73\n",
      "Accuracy:   0.74\n",
      "ROC-AUC:   0.01\n",
      "\n",
      "\n"
     ]
    },
    {
     "data": {
      "image/png": "[encoded data removed]",
      "text/plain": [
       "<Figure size 1440x360 with 4 Axes>"
      ]
     },
     "metadata": {},
     "output_type": "display_data"
    }
   ],
   "source": [
    "_models = {\n",
    "    'Linear': svm.SVC(kernel='linear',probability=True),\n",
    "    'RBF': svm.SVC(kernel='rbf',probability=True),\n",
    "    'Poly': svm.SVC(kernel='poly',probability=True),\n",
    "    'Poly, With Custom Degree': svm.SVC(kernel='poly', degree=8, probability=True),\n",
    "}\n",
    "\n",
    "_model_labels = [\n",
    "    'Linear',\n",
    "    'RBF',\n",
    "    'Poly',\n",
    "    'Poly, With Custom Degree',\n",
    "]\n",
    "\n",
    "np.random.seed(60)\n",
    "fig, axs = plt.subplots(1, len(_model_labels), figsize=(20, 5))\n",
    "\n",
    "for i in range(len(_model_labels)):\n",
    "    _model_label = _model_labels[i]\n",
    "    \n",
    "    _model = _models[_model_label]\n",
    "    _model.fit(X_train, y_train)\n",
    "    \n",
    "    ax = axs[i]\n",
    "    ax.set_title(f\"{_model_label}\")\n",
    "    \n",
    "    y_pred = _model.predict(X_test)\n",
    "    proba  = _model.predict_proba(X_test)\n",
    "    \n",
    "    print(f\"{_model_label}\\n\")\n",
    "    show_results(y_test, y_pred, proba)\n",
    "    show_confusion_matrix(y_test, y_pred, ax)"
   ]
  },
  {
   "cell_type": "markdown",
   "metadata": {},
   "source": [
    "It can be seen that among models, the best one were linear and rbf, as for poly it show better result using default degree=3, than with custom(degree=8)."
   ]
  },
  {
   "cell_type": "code",
   "execution_count": null,
   "metadata": {},
   "outputs": [],
   "source": [
    "my_scorer = make_scorer(f1_score, greater_is_better=True, average='micro')\n",
    "parameters = {'kernel':('linear', 'rbf', 'poly'), 'C':[0.001, 0.01, 0.1, 1, 10, 100],\\\n",
    "              'decision_function_shape' : ['ovo', 'ovr']}\n",
    "svr = SVC(verbose = False, probability=True)\n",
    "clf = GridSearchCV(svr, parameters, scoring=my_scorer, cv=2, verbose=2)\n",
    "clf.fit(X_train, y_train)\n",
    "pred = clf.predict_proba(X_test)\n",
    "print('Best parameters: ', clf.best_params_)\n",
    "print(\"F1 score  = {0:6.2f}\".format(f1_score(y_test, np.argmax(pred, axis=1), average='micro')))"
   ]
  },
  {
   "cell_type": "markdown",
   "metadata": {
    "id": "sY8q6JdCDvZK"
   },
   "source": [
    "## PART 3: Natural Language Processing"
   ]
  },
  {
   "cell_type": "markdown",
   "metadata": {
    "id": "eD4xKhYfDvZK"
   },
   "source": [
    "#### 7. [2 point] Form the dataset\n",
    "\n",
    "We are going to form a dataset that we will use in the following tasks for binary and multiclass classification\n",
    "\n",
    "0. Choose **six** authors that you like (specify who you've chosen) and download the <a href=\"https://www.kaggle.com/d0rj3228/russian-literature?select=prose\">relevant data</a> from **prose** section\n",
    "1. Build your own dataset for these authors: \n",
    "    * divide each text into sentences such that we will have two columns: *sentence* and *target author*, each row will contain one sentence and one target\n",
    "    * drop sentences where N symbols in a sentence < 100\n",
    "    * fix random state and randomly choose sentences in the folowing proportion \"30k : 15k : 7k : 20k: 40k : 3k\" for the authors respectively\n",
    "    \n",
    "    sample data may look like:\n",
    "    \n",
    "    <center> \n",
    "    <table>\n",
    "        <tr>\n",
    "            <th> sentence </th>\n",
    "            <th> author </th>\n",
    "        </tr> \n",
    "        <tr><td> Несколько лет тому назад в одном из своих поместий жил старинный русской барин, Кирила Петрович Троекуров. </td><td> Пушкин </td><td> \n",
    "        <tr><td> Уже более недели приезжий господин жил в городе, разъезжая по вечеринкам и обедам и таким образом проводя, как говорится, очень приятно время. </td><td> Гоголь </td><td> \n",
    "        <tr><td> ... </td><td> ... </td><td> \n",
    "        <tr><td> Я жил недорослем, гоняя голубей и играя в чехарду с дворовыми мальчишками. </td><td> Пушкин </td><td>         \n",
    "    </table>\n",
    "</center>\n",
    "     \n",
    "2. Preprocess (tokenize and clean) the dataset \n",
    "    * tokenize, remove all stop words (nltk.corpus.stopwords), punctuation (string.punctuation) and numbers\n",
    "    * convert to lower case and lemmatize the words\n",
    "    * vectorize words using both **bag of words** and **tf-idf** (use sklearn)\n",
    "    * observe and describe the difference between vectorized output (what do numbers look like after transformations and what do they represent?)"
   ]
  },
  {
   "cell_type": "code",
   "execution_count": 17,
   "metadata": {
    "id": "NVStbeQ8DvZL"
   },
   "outputs": [],
   "source": [
    "# your code here"
   ]
  },
  {
   "cell_type": "markdown",
   "metadata": {
    "id": "LuTi3rvnDvZL"
   },
   "source": [
    "###  Binary classification\n",
    "\n",
    "#### 8. [2 point] Train model using Logistic Regression (your own) and SVC (SVM can be taken from sklearn) \n",
    "\n",
    "##### 1. \n",
    "* choose *two* authors from the dataset that you have formed in the previous task\n",
    "* check the balance of the classes\n",
    "* divide the data into train and test samples with 3/4 split rate (don't forget to fix the random state)\n",
    "* train the models using cross validation\n",
    "* plot confusion matrix for train and test samples\n",
    "* compute all possible and relevant metrics for test sample (useful to check the seminars 5 and 6, use sklearn) \n",
    "* make conclusions about the performance of your models\n",
    "\n",
    "##### 2. \n",
    "* using GridSearchCV - find the best parameters for the models (by ROC_AUC score)\n",
    "* make several plots to address the dependence between ROC_AUC score and parameters\n",
    "* make conclusions about the models"
   ]
  },
  {
   "cell_type": "code",
   "execution_count": 18,
   "metadata": {
    "id": "XZUP1HqFDvZL"
   },
   "outputs": [],
   "source": [
    "# your code here"
   ]
  },
  {
   "cell_type": "markdown",
   "metadata": {
    "id": "5G1kt0qbDvZL"
   },
   "source": [
    "#### 9. [1 point] Analysing ROC_AUC\n",
    "\n",
    "It is possible to control the proportion of statistical errors of different types using different thresholds for choosing a class. Plot ROC curves for Logistic Regression and SVC, show the threshold on ROC curve plots. Choose such a threshold that your models have no more than 30% of false positive errors rate "
   ]
  },
  {
   "cell_type": "code",
   "execution_count": 19,
   "metadata": {
    "id": "BZ2GZ8-uDvZL"
   },
   "outputs": [],
   "source": [
    "# your code here"
   ]
  },
  {
   "cell_type": "markdown",
   "metadata": {
    "id": "C-qubaK4DvZM"
   },
   "source": [
    "### Multiclass logit"
   ]
  },
  {
   "cell_type": "markdown",
   "metadata": {
    "id": "yJQone-LDvZM"
   },
   "source": [
    "#### 10. [1 point] Take the One-VS-Rest classifier (use sklearn) and apply to Logit model (one you've made in the 4th task) in order to get multiclass linear classifier\n",
    "\n",
    "<a href=\"https://scikit-learn.org/stable/modules/generated/sklearn.multiclass.OneVsRestClassifier.html\">OneVsRestClassifier</a>\n",
    "\n",
    "* use the whole dataset with 6 authors\n",
    "* divide the data into train and test samples with 3/4 split rate\n",
    "* train the model using cross validation\n",
    "* plot confusion matrix for train and test samples\n",
    "* compute all possible and relevant metrics for test sample (use sklearn)\n",
    "* using GridSearchCV - find the best parameters for the models (by averaged ROC_AUC score)\n",
    "* make conclusions about the model"
   ]
  },
  {
   "cell_type": "code",
   "execution_count": 20,
   "metadata": {
    "id": "M4lR8qJ7DvZM"
   },
   "outputs": [],
   "source": [
    "# your code here"
   ]
  }
 ],
 "metadata": {
  "colab": {
   "collapsed_sections": [],
   "name": "HW3_v7.ipynb",
   "provenance": []
  },
  "kernelspec": {
   "display_name": "Python 3",
   "language": "python",
   "name": "python3"
  },
  "language_info": {
   "codemirror_mode": {
    "name": "ipython",
    "version": 3
   },
   "file_extension": ".py",
   "mimetype": "text/x-python",
   "name": "python",
   "nbconvert_exporter": "python",
   "pygments_lexer": "ipython3",
   "version": "3.8.8"
  }
 },
 "nbformat": 4,
 "nbformat_minor": 4
}
